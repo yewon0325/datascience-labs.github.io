{
  "nbformat": 4,
  "nbformat_minor": 0,
  "metadata": {
    "colab": {
      "provenance": [],
      "include_colab_link": true
    },
    "kernelspec": {
      "name": "python3",
      "display_name": "Python 3"
    },
    "language_info": {
      "name": "python"
    },
    "widgets": {
      "application/vnd.jupyter.widget-state+json": {
        "3882f5d9054d48cda5b5e2009ad7a9b6": {
          "model_module": "@jupyter-widgets/controls",
          "model_name": "HBoxModel",
          "model_module_version": "1.5.0",
          "state": {
            "_dom_classes": [],
            "_model_module": "@jupyter-widgets/controls",
            "_model_module_version": "1.5.0",
            "_model_name": "HBoxModel",
            "_view_count": null,
            "_view_module": "@jupyter-widgets/controls",
            "_view_module_version": "1.5.0",
            "_view_name": "HBoxView",
            "box_style": "",
            "children": [
              "IPY_MODEL_eb7841f10d1948389920a24690ef421b",
              "IPY_MODEL_71885f8fda5246fc8e6c5e3797679158",
              "IPY_MODEL_c285ed227c16418ba6a0c48b353d72ee"
            ],
            "layout": "IPY_MODEL_8316bd062e1f45118452ee31be1dc195"
          }
        },
        "eb7841f10d1948389920a24690ef421b": {
          "model_module": "@jupyter-widgets/controls",
          "model_name": "HTMLModel",
          "model_module_version": "1.5.0",
          "state": {
            "_dom_classes": [],
            "_model_module": "@jupyter-widgets/controls",
            "_model_module_version": "1.5.0",
            "_model_name": "HTMLModel",
            "_view_count": null,
            "_view_module": "@jupyter-widgets/controls",
            "_view_module_version": "1.5.0",
            "_view_name": "HTMLView",
            "description": "",
            "description_tooltip": null,
            "layout": "IPY_MODEL_3d221ca56d12435abfc8f0468f143e7d",
            "placeholder": "​",
            "style": "IPY_MODEL_388614f2882a449fb87e9453b2a7f527",
            "value": "Loading: 100%"
          }
        },
        "71885f8fda5246fc8e6c5e3797679158": {
          "model_module": "@jupyter-widgets/controls",
          "model_name": "FloatProgressModel",
          "model_module_version": "1.5.0",
          "state": {
            "_dom_classes": [],
            "_model_module": "@jupyter-widgets/controls",
            "_model_module_version": "1.5.0",
            "_model_name": "FloatProgressModel",
            "_view_count": null,
            "_view_module": "@jupyter-widgets/controls",
            "_view_module_version": "1.5.0",
            "_view_name": "ProgressView",
            "bar_style": "success",
            "description": "",
            "description_tooltip": null,
            "layout": "IPY_MODEL_06b5fd0836ec4f48ba62e44b2717279b",
            "max": 100,
            "min": 0,
            "orientation": "horizontal",
            "style": "IPY_MODEL_fc56e53314f34d18a38afd8cb29fafb4",
            "value": 100
          }
        },
        "c285ed227c16418ba6a0c48b353d72ee": {
          "model_module": "@jupyter-widgets/controls",
          "model_name": "HTMLModel",
          "model_module_version": "1.5.0",
          "state": {
            "_dom_classes": [],
            "_model_module": "@jupyter-widgets/controls",
            "_model_module_version": "1.5.0",
            "_model_name": "HTMLModel",
            "_view_count": null,
            "_view_module": "@jupyter-widgets/controls",
            "_view_module_version": "1.5.0",
            "_view_name": "HTMLView",
            "description": "",
            "description_tooltip": null,
            "layout": "IPY_MODEL_8502377116284921bc42589b482d38d9",
            "placeholder": "​",
            "style": "IPY_MODEL_49dde26b14ac4aa2aa54651453009aeb",
            "value": " 100.0/100 [00:23&lt;00:00, 486.60%/s]"
          }
        },
        "8316bd062e1f45118452ee31be1dc195": {
          "model_module": "@jupyter-widgets/base",
          "model_name": "LayoutModel",
          "model_module_version": "1.2.0",
          "state": {
            "_model_module": "@jupyter-widgets/base",
            "_model_module_version": "1.2.0",
            "_model_name": "LayoutModel",
            "_view_count": null,
            "_view_module": "@jupyter-widgets/base",
            "_view_module_version": "1.2.0",
            "_view_name": "LayoutView",
            "align_content": null,
            "align_items": null,
            "align_self": null,
            "border": null,
            "bottom": null,
            "display": null,
            "flex": null,
            "flex_flow": null,
            "grid_area": null,
            "grid_auto_columns": null,
            "grid_auto_flow": null,
            "grid_auto_rows": null,
            "grid_column": null,
            "grid_gap": null,
            "grid_row": null,
            "grid_template_areas": null,
            "grid_template_columns": null,
            "grid_template_rows": null,
            "height": null,
            "justify_content": null,
            "justify_items": null,
            "left": null,
            "margin": null,
            "max_height": null,
            "max_width": null,
            "min_height": null,
            "min_width": null,
            "object_fit": null,
            "object_position": null,
            "order": null,
            "overflow": null,
            "overflow_x": null,
            "overflow_y": null,
            "padding": null,
            "right": null,
            "top": null,
            "visibility": null,
            "width": null
          }
        },
        "3d221ca56d12435abfc8f0468f143e7d": {
          "model_module": "@jupyter-widgets/base",
          "model_name": "LayoutModel",
          "model_module_version": "1.2.0",
          "state": {
            "_model_module": "@jupyter-widgets/base",
            "_model_module_version": "1.2.0",
            "_model_name": "LayoutModel",
            "_view_count": null,
            "_view_module": "@jupyter-widgets/base",
            "_view_module_version": "1.2.0",
            "_view_name": "LayoutView",
            "align_content": null,
            "align_items": null,
            "align_self": null,
            "border": null,
            "bottom": null,
            "display": null,
            "flex": null,
            "flex_flow": null,
            "grid_area": null,
            "grid_auto_columns": null,
            "grid_auto_flow": null,
            "grid_auto_rows": null,
            "grid_column": null,
            "grid_gap": null,
            "grid_row": null,
            "grid_template_areas": null,
            "grid_template_columns": null,
            "grid_template_rows": null,
            "height": null,
            "justify_content": null,
            "justify_items": null,
            "left": null,
            "margin": null,
            "max_height": null,
            "max_width": null,
            "min_height": null,
            "min_width": null,
            "object_fit": null,
            "object_position": null,
            "order": null,
            "overflow": null,
            "overflow_x": null,
            "overflow_y": null,
            "padding": null,
            "right": null,
            "top": null,
            "visibility": null,
            "width": null
          }
        },
        "388614f2882a449fb87e9453b2a7f527": {
          "model_module": "@jupyter-widgets/controls",
          "model_name": "DescriptionStyleModel",
          "model_module_version": "1.5.0",
          "state": {
            "_model_module": "@jupyter-widgets/controls",
            "_model_module_version": "1.5.0",
            "_model_name": "DescriptionStyleModel",
            "_view_count": null,
            "_view_module": "@jupyter-widgets/base",
            "_view_module_version": "1.2.0",
            "_view_name": "StyleView",
            "description_width": ""
          }
        },
        "06b5fd0836ec4f48ba62e44b2717279b": {
          "model_module": "@jupyter-widgets/base",
          "model_name": "LayoutModel",
          "model_module_version": "1.2.0",
          "state": {
            "_model_module": "@jupyter-widgets/base",
            "_model_module_version": "1.2.0",
            "_model_name": "LayoutModel",
            "_view_count": null,
            "_view_module": "@jupyter-widgets/base",
            "_view_module_version": "1.2.0",
            "_view_name": "LayoutView",
            "align_content": null,
            "align_items": null,
            "align_self": null,
            "border": null,
            "bottom": null,
            "display": null,
            "flex": null,
            "flex_flow": null,
            "grid_area": null,
            "grid_auto_columns": null,
            "grid_auto_flow": null,
            "grid_auto_rows": null,
            "grid_column": null,
            "grid_gap": null,
            "grid_row": null,
            "grid_template_areas": null,
            "grid_template_columns": null,
            "grid_template_rows": null,
            "height": null,
            "justify_content": null,
            "justify_items": null,
            "left": null,
            "margin": null,
            "max_height": null,
            "max_width": null,
            "min_height": null,
            "min_width": null,
            "object_fit": null,
            "object_position": null,
            "order": null,
            "overflow": null,
            "overflow_x": null,
            "overflow_y": null,
            "padding": null,
            "right": null,
            "top": null,
            "visibility": null,
            "width": null
          }
        },
        "fc56e53314f34d18a38afd8cb29fafb4": {
          "model_module": "@jupyter-widgets/controls",
          "model_name": "ProgressStyleModel",
          "model_module_version": "1.5.0",
          "state": {
            "_model_module": "@jupyter-widgets/controls",
            "_model_module_version": "1.5.0",
            "_model_name": "ProgressStyleModel",
            "_view_count": null,
            "_view_module": "@jupyter-widgets/base",
            "_view_module_version": "1.2.0",
            "_view_name": "StyleView",
            "bar_color": null,
            "description_width": ""
          }
        },
        "8502377116284921bc42589b482d38d9": {
          "model_module": "@jupyter-widgets/base",
          "model_name": "LayoutModel",
          "model_module_version": "1.2.0",
          "state": {
            "_model_module": "@jupyter-widgets/base",
            "_model_module_version": "1.2.0",
            "_model_name": "LayoutModel",
            "_view_count": null,
            "_view_module": "@jupyter-widgets/base",
            "_view_module_version": "1.2.0",
            "_view_name": "LayoutView",
            "align_content": null,
            "align_items": null,
            "align_self": null,
            "border": null,
            "bottom": null,
            "display": null,
            "flex": null,
            "flex_flow": null,
            "grid_area": null,
            "grid_auto_columns": null,
            "grid_auto_flow": null,
            "grid_auto_rows": null,
            "grid_column": null,
            "grid_gap": null,
            "grid_row": null,
            "grid_template_areas": null,
            "grid_template_columns": null,
            "grid_template_rows": null,
            "height": null,
            "justify_content": null,
            "justify_items": null,
            "left": null,
            "margin": null,
            "max_height": null,
            "max_width": null,
            "min_height": null,
            "min_width": null,
            "object_fit": null,
            "object_position": null,
            "order": null,
            "overflow": null,
            "overflow_x": null,
            "overflow_y": null,
            "padding": null,
            "right": null,
            "top": null,
            "visibility": null,
            "width": null
          }
        },
        "49dde26b14ac4aa2aa54651453009aeb": {
          "model_module": "@jupyter-widgets/controls",
          "model_name": "DescriptionStyleModel",
          "model_module_version": "1.5.0",
          "state": {
            "_model_module": "@jupyter-widgets/controls",
            "_model_module_version": "1.5.0",
            "_model_name": "DescriptionStyleModel",
            "_view_count": null,
            "_view_module": "@jupyter-widgets/base",
            "_view_module_version": "1.2.0",
            "_view_name": "StyleView",
            "description_width": ""
          }
        },
        "df4cec7aa8f144e4bfcbb0dcbf1b1746": {
          "model_module": "@jupyter-widgets/controls",
          "model_name": "HBoxModel",
          "model_module_version": "1.5.0",
          "state": {
            "_dom_classes": [],
            "_model_module": "@jupyter-widgets/controls",
            "_model_module_version": "1.5.0",
            "_model_name": "HBoxModel",
            "_view_count": null,
            "_view_module": "@jupyter-widgets/controls",
            "_view_module_version": "1.5.0",
            "_view_name": "HBoxView",
            "box_style": "",
            "children": [
              "IPY_MODEL_70e2c72d9d404f4aa8c2b764e7af7b93",
              "IPY_MODEL_55ecc81af9c44546b8a8140a821003ac",
              "IPY_MODEL_c3da34580c2342d597c65787cb15013e"
            ],
            "layout": "IPY_MODEL_290b8c08c2b648889c5ac98e59efbb70"
          }
        },
        "70e2c72d9d404f4aa8c2b764e7af7b93": {
          "model_module": "@jupyter-widgets/controls",
          "model_name": "HTMLModel",
          "model_module_version": "1.5.0",
          "state": {
            "_dom_classes": [],
            "_model_module": "@jupyter-widgets/controls",
            "_model_module_version": "1.5.0",
            "_model_name": "HTMLModel",
            "_view_count": null,
            "_view_module": "@jupyter-widgets/controls",
            "_view_module_version": "1.5.0",
            "_view_name": "HTMLView",
            "description": "",
            "description_tooltip": null,
            "layout": "IPY_MODEL_d289f0a2b44a4760ad3deb3e52bd529b",
            "placeholder": "​",
            "style": "IPY_MODEL_37adfa0460674f18b40c32e7d412ad98",
            "value": "Knn: 100%"
          }
        },
        "55ecc81af9c44546b8a8140a821003ac": {
          "model_module": "@jupyter-widgets/controls",
          "model_name": "FloatProgressModel",
          "model_module_version": "1.5.0",
          "state": {
            "_dom_classes": [],
            "_model_module": "@jupyter-widgets/controls",
            "_model_module_version": "1.5.0",
            "_model_name": "FloatProgressModel",
            "_view_count": null,
            "_view_module": "@jupyter-widgets/controls",
            "_view_module_version": "1.5.0",
            "_view_name": "ProgressView",
            "bar_style": "success",
            "description": "",
            "description_tooltip": null,
            "layout": "IPY_MODEL_aca4392d8f0640d19026ad011e047e42",
            "max": 100,
            "min": 0,
            "orientation": "horizontal",
            "style": "IPY_MODEL_76562367afe7484ab28e83d450e45785",
            "value": 100
          }
        },
        "c3da34580c2342d597c65787cb15013e": {
          "model_module": "@jupyter-widgets/controls",
          "model_name": "HTMLModel",
          "model_module_version": "1.5.0",
          "state": {
            "_dom_classes": [],
            "_model_module": "@jupyter-widgets/controls",
            "_model_module_version": "1.5.0",
            "_model_name": "HTMLModel",
            "_view_count": null,
            "_view_module": "@jupyter-widgets/controls",
            "_view_module_version": "1.5.0",
            "_view_name": "HTMLView",
            "description": "",
            "description_tooltip": null,
            "layout": "IPY_MODEL_60ed05fde48d44ac831cd72e5e249b28",
            "placeholder": "​",
            "style": "IPY_MODEL_47751790b8d94346bf786df2fcaf16b5",
            "value": " 100.0/100 [44:30&lt;00:00,  1.49%/s]"
          }
        },
        "290b8c08c2b648889c5ac98e59efbb70": {
          "model_module": "@jupyter-widgets/base",
          "model_name": "LayoutModel",
          "model_module_version": "1.2.0",
          "state": {
            "_model_module": "@jupyter-widgets/base",
            "_model_module_version": "1.2.0",
            "_model_name": "LayoutModel",
            "_view_count": null,
            "_view_module": "@jupyter-widgets/base",
            "_view_module_version": "1.2.0",
            "_view_name": "LayoutView",
            "align_content": null,
            "align_items": null,
            "align_self": null,
            "border": null,
            "bottom": null,
            "display": null,
            "flex": null,
            "flex_flow": null,
            "grid_area": null,
            "grid_auto_columns": null,
            "grid_auto_flow": null,
            "grid_auto_rows": null,
            "grid_column": null,
            "grid_gap": null,
            "grid_row": null,
            "grid_template_areas": null,
            "grid_template_columns": null,
            "grid_template_rows": null,
            "height": null,
            "justify_content": null,
            "justify_items": null,
            "left": null,
            "margin": null,
            "max_height": null,
            "max_width": null,
            "min_height": null,
            "min_width": null,
            "object_fit": null,
            "object_position": null,
            "order": null,
            "overflow": null,
            "overflow_x": null,
            "overflow_y": null,
            "padding": null,
            "right": null,
            "top": null,
            "visibility": null,
            "width": null
          }
        },
        "d289f0a2b44a4760ad3deb3e52bd529b": {
          "model_module": "@jupyter-widgets/base",
          "model_name": "LayoutModel",
          "model_module_version": "1.2.0",
          "state": {
            "_model_module": "@jupyter-widgets/base",
            "_model_module_version": "1.2.0",
            "_model_name": "LayoutModel",
            "_view_count": null,
            "_view_module": "@jupyter-widgets/base",
            "_view_module_version": "1.2.0",
            "_view_name": "LayoutView",
            "align_content": null,
            "align_items": null,
            "align_self": null,
            "border": null,
            "bottom": null,
            "display": null,
            "flex": null,
            "flex_flow": null,
            "grid_area": null,
            "grid_auto_columns": null,
            "grid_auto_flow": null,
            "grid_auto_rows": null,
            "grid_column": null,
            "grid_gap": null,
            "grid_row": null,
            "grid_template_areas": null,
            "grid_template_columns": null,
            "grid_template_rows": null,
            "height": null,
            "justify_content": null,
            "justify_items": null,
            "left": null,
            "margin": null,
            "max_height": null,
            "max_width": null,
            "min_height": null,
            "min_width": null,
            "object_fit": null,
            "object_position": null,
            "order": null,
            "overflow": null,
            "overflow_x": null,
            "overflow_y": null,
            "padding": null,
            "right": null,
            "top": null,
            "visibility": null,
            "width": null
          }
        },
        "37adfa0460674f18b40c32e7d412ad98": {
          "model_module": "@jupyter-widgets/controls",
          "model_name": "DescriptionStyleModel",
          "model_module_version": "1.5.0",
          "state": {
            "_model_module": "@jupyter-widgets/controls",
            "_model_module_version": "1.5.0",
            "_model_name": "DescriptionStyleModel",
            "_view_count": null,
            "_view_module": "@jupyter-widgets/base",
            "_view_module_version": "1.2.0",
            "_view_name": "StyleView",
            "description_width": ""
          }
        },
        "aca4392d8f0640d19026ad011e047e42": {
          "model_module": "@jupyter-widgets/base",
          "model_name": "LayoutModel",
          "model_module_version": "1.2.0",
          "state": {
            "_model_module": "@jupyter-widgets/base",
            "_model_module_version": "1.2.0",
            "_model_name": "LayoutModel",
            "_view_count": null,
            "_view_module": "@jupyter-widgets/base",
            "_view_module_version": "1.2.0",
            "_view_name": "LayoutView",
            "align_content": null,
            "align_items": null,
            "align_self": null,
            "border": null,
            "bottom": null,
            "display": null,
            "flex": null,
            "flex_flow": null,
            "grid_area": null,
            "grid_auto_columns": null,
            "grid_auto_flow": null,
            "grid_auto_rows": null,
            "grid_column": null,
            "grid_gap": null,
            "grid_row": null,
            "grid_template_areas": null,
            "grid_template_columns": null,
            "grid_template_rows": null,
            "height": null,
            "justify_content": null,
            "justify_items": null,
            "left": null,
            "margin": null,
            "max_height": null,
            "max_width": null,
            "min_height": null,
            "min_width": null,
            "object_fit": null,
            "object_position": null,
            "order": null,
            "overflow": null,
            "overflow_x": null,
            "overflow_y": null,
            "padding": null,
            "right": null,
            "top": null,
            "visibility": null,
            "width": null
          }
        },
        "76562367afe7484ab28e83d450e45785": {
          "model_module": "@jupyter-widgets/controls",
          "model_name": "ProgressStyleModel",
          "model_module_version": "1.5.0",
          "state": {
            "_model_module": "@jupyter-widgets/controls",
            "_model_module_version": "1.5.0",
            "_model_name": "ProgressStyleModel",
            "_view_count": null,
            "_view_module": "@jupyter-widgets/base",
            "_view_module_version": "1.2.0",
            "_view_name": "StyleView",
            "bar_color": null,
            "description_width": ""
          }
        },
        "60ed05fde48d44ac831cd72e5e249b28": {
          "model_module": "@jupyter-widgets/base",
          "model_name": "LayoutModel",
          "model_module_version": "1.2.0",
          "state": {
            "_model_module": "@jupyter-widgets/base",
            "_model_module_version": "1.2.0",
            "_model_name": "LayoutModel",
            "_view_count": null,
            "_view_module": "@jupyter-widgets/base",
            "_view_module_version": "1.2.0",
            "_view_name": "LayoutView",
            "align_content": null,
            "align_items": null,
            "align_self": null,
            "border": null,
            "bottom": null,
            "display": null,
            "flex": null,
            "flex_flow": null,
            "grid_area": null,
            "grid_auto_columns": null,
            "grid_auto_flow": null,
            "grid_auto_rows": null,
            "grid_column": null,
            "grid_gap": null,
            "grid_row": null,
            "grid_template_areas": null,
            "grid_template_columns": null,
            "grid_template_rows": null,
            "height": null,
            "justify_content": null,
            "justify_items": null,
            "left": null,
            "margin": null,
            "max_height": null,
            "max_width": null,
            "min_height": null,
            "min_width": null,
            "object_fit": null,
            "object_position": null,
            "order": null,
            "overflow": null,
            "overflow_x": null,
            "overflow_y": null,
            "padding": null,
            "right": null,
            "top": null,
            "visibility": null,
            "width": null
          }
        },
        "47751790b8d94346bf786df2fcaf16b5": {
          "model_module": "@jupyter-widgets/controls",
          "model_name": "DescriptionStyleModel",
          "model_module_version": "1.5.0",
          "state": {
            "_model_module": "@jupyter-widgets/controls",
            "_model_module_version": "1.5.0",
            "_model_name": "DescriptionStyleModel",
            "_view_count": null,
            "_view_module": "@jupyter-widgets/base",
            "_view_module_version": "1.2.0",
            "_view_name": "StyleView",
            "description_width": ""
          }
        }
      }
    }
  },
  "cells": [
    {
      "cell_type": "markdown",
      "metadata": {
        "id": "view-in-github",
        "colab_type": "text"
      },
      "source": [
        "<a href=\"https://colab.research.google.com/github/yewon0325/datascience-labs.github.io/blob/main/ms_graphrag.ipynb\" target=\"_parent\"><img src=\"https://colab.research.google.com/assets/colab-badge.svg\" alt=\"Open In Colab\"/></a>"
      ]
    },
    {
      "cell_type": "code",
      "execution_count": null,
      "metadata": {
        "id": "9K7S1j3FOoi0",
        "colab": {
          "base_uri": "https://localhost:8080/"
        },
        "outputId": "0f40e8f8-eb51-4940-f399-067d581e8fa2"
      },
      "outputs": [
        {
          "output_type": "stream",
          "name": "stdout",
          "text": [
            "\u001b[2K     \u001b[90m━━━━━━━━━━━━━━━━━━━━━━━━━━━━━━━━━━━━━━━━\u001b[0m \u001b[32m50.4/50.4 kB\u001b[0m \u001b[31m3.4 MB/s\u001b[0m eta \u001b[36m0:00:00\u001b[0m\n",
            "\u001b[2K   \u001b[90m━━━━━━━━━━━━━━━━━━━━━━━━━━━━━━━━━━━━━━━━\u001b[0m \u001b[32m2.3/2.3 MB\u001b[0m \u001b[31m27.1 MB/s\u001b[0m eta \u001b[36m0:00:00\u001b[0m\n",
            "\u001b[2K   \u001b[90m━━━━━━━━━━━━━━━━━━━━━━━━━━━━━━━━━━━━━━━━\u001b[0m \u001b[32m204.3/204.3 kB\u001b[0m \u001b[31m16.7 MB/s\u001b[0m eta \u001b[36m0:00:00\u001b[0m\n",
            "\u001b[2K   \u001b[90m━━━━━━━━━━━━━━━━━━━━━━━━━━━━━━━━━━━━━━━━\u001b[0m \u001b[32m52.0/52.0 kB\u001b[0m \u001b[31m4.1 MB/s\u001b[0m eta \u001b[36m0:00:00\u001b[0m\n",
            "\u001b[2K   \u001b[90m━━━━━━━━━━━━━━━━━━━━━━━━━━━━━━━━━━━━━━━━\u001b[0m \u001b[32m293.6/293.6 kB\u001b[0m \u001b[31m16.9 MB/s\u001b[0m eta \u001b[36m0:00:00\u001b[0m\n",
            "\u001b[2K   \u001b[90m━━━━━━━━━━━━━━━━━━━━━━━━━━━━━━━━━━━━━━━━\u001b[0m \u001b[32m1.6/1.6 MB\u001b[0m \u001b[31m51.8 MB/s\u001b[0m eta \u001b[36m0:00:00\u001b[0m\n",
            "\u001b[2K   \u001b[90m━━━━━━━━━━━━━━━━━━━━━━━━━━━━━━━━━━━━━━━━\u001b[0m \u001b[32m1.1/1.1 MB\u001b[0m \u001b[31m50.4 MB/s\u001b[0m eta \u001b[36m0:00:00\u001b[0m\n",
            "\u001b[2K   \u001b[90m━━━━━━━━━━━━━━━━━━━━━━━━━━━━━━━━━━━━━━━━\u001b[0m \u001b[32m997.8/997.8 kB\u001b[0m \u001b[31m49.6 MB/s\u001b[0m eta \u001b[36m0:00:00\u001b[0m\n",
            "\u001b[2K   \u001b[90m━━━━━━━━━━━━━━━━━━━━━━━━━━━━━━━━━━━━━━━━\u001b[0m \u001b[32m391.5/391.5 kB\u001b[0m \u001b[31m27.9 MB/s\u001b[0m eta \u001b[36m0:00:00\u001b[0m\n",
            "\u001b[2K   \u001b[90m━━━━━━━━━━━━━━━━━━━━━━━━━━━━━━━━━━━━━━━━\u001b[0m \u001b[32m148.9/148.9 kB\u001b[0m \u001b[31m11.9 MB/s\u001b[0m eta \u001b[36m0:00:00\u001b[0m\n",
            "\u001b[2K   \u001b[90m━━━━━━━━━━━━━━━━━━━━━━━━━━━━━━━━━━━━━━━━\u001b[0m \u001b[32m362.9/362.9 kB\u001b[0m \u001b[31m25.0 MB/s\u001b[0m eta \u001b[36m0:00:00\u001b[0m\n",
            "\u001b[2K   \u001b[90m━━━━━━━━━━━━━━━━━━━━━━━━━━━━━━━━━━━━━━━━\u001b[0m \u001b[32m98.7/98.7 kB\u001b[0m \u001b[31m7.7 MB/s\u001b[0m eta \u001b[36m0:00:00\u001b[0m\n",
            "\u001b[2K   \u001b[90m━━━━━━━━━━━━━━━━━━━━━━━━━━━━━━━━━━━━━━━━\u001b[0m \u001b[32m75.6/75.6 kB\u001b[0m \u001b[31m6.4 MB/s\u001b[0m eta \u001b[36m0:00:00\u001b[0m\n",
            "\u001b[2K   \u001b[90m━━━━━━━━━━━━━━━━━━━━━━━━━━━━━━━━━━━━━━━━\u001b[0m \u001b[32m77.9/77.9 kB\u001b[0m \u001b[31m6.8 MB/s\u001b[0m eta \u001b[36m0:00:00\u001b[0m\n",
            "\u001b[2K   \u001b[90m━━━━━━━━━━━━━━━━━━━━━━━━━━━━━━━━━━━━━━━━\u001b[0m \u001b[32m318.9/318.9 kB\u001b[0m \u001b[31m23.4 MB/s\u001b[0m eta \u001b[36m0:00:00\u001b[0m\n",
            "\u001b[2K   \u001b[90m━━━━━━━━━━━━━━━━━━━━━━━━━━━━━━━━━━━━━━━━\u001b[0m \u001b[32m49.3/49.3 kB\u001b[0m \u001b[31m3.6 MB/s\u001b[0m eta \u001b[36m0:00:00\u001b[0m\n",
            "\u001b[2K   \u001b[90m━━━━━━━━━━━━━━━━━━━━━━━━━━━━━━━━━━━━━━━━\u001b[0m \u001b[32m141.9/141.9 kB\u001b[0m \u001b[31m10.4 MB/s\u001b[0m eta \u001b[36m0:00:00\u001b[0m\n",
            "\u001b[2K   \u001b[90m━━━━━━━━━━━━━━━━━━━━━━━━━━━━━━━━━━━━━━━━\u001b[0m \u001b[32m58.3/58.3 kB\u001b[0m \u001b[31m4.4 MB/s\u001b[0m eta \u001b[36m0:00:00\u001b[0m\n",
            "\u001b[?25h"
          ]
        }
      ],
      "source": [
        "!pip install --quiet langchain-community langchain-experimental langchain-openai neo4j graphdatascience tiktoken retry # 설치"
      ]
    },
    {
      "cell_type": "code",
      "source": [
        "import getpass\n",
        "import os\n",
        "\n",
        "os.environ[\"OPENAI_API_KEY\"] = getpass.getpass() #gpt apikey 입력"
      ],
      "metadata": {
        "colab": {
          "base_uri": "https://localhost:8080/",
          "height": 355
        },
        "id": "0rrFvqkEO9bF",
        "outputId": "d4cf07d1-ee6c-46f9-c67c-80711fa54690"
      },
      "execution_count": null,
      "outputs": [
        {
          "output_type": "error",
          "ename": "KeyboardInterrupt",
          "evalue": "Interrupted by user",
          "traceback": [
            "\u001b[0;31m---------------------------------------------------------------------------\u001b[0m",
            "\u001b[0;31mKeyboardInterrupt\u001b[0m                         Traceback (most recent call last)",
            "\u001b[0;32m<ipython-input-3-18683fd3e178>\u001b[0m in \u001b[0;36m<cell line: 4>\u001b[0;34m()\u001b[0m\n\u001b[1;32m      2\u001b[0m \u001b[0;32mimport\u001b[0m \u001b[0mos\u001b[0m\u001b[0;34m\u001b[0m\u001b[0;34m\u001b[0m\u001b[0m\n\u001b[1;32m      3\u001b[0m \u001b[0;34m\u001b[0m\u001b[0m\n\u001b[0;32m----> 4\u001b[0;31m \u001b[0mos\u001b[0m\u001b[0;34m.\u001b[0m\u001b[0menviron\u001b[0m\u001b[0;34m[\u001b[0m\u001b[0;34m\"OPENAI_API_KEY\"\u001b[0m\u001b[0;34m]\u001b[0m \u001b[0;34m=\u001b[0m \u001b[0mgetpass\u001b[0m\u001b[0;34m.\u001b[0m\u001b[0mgetpass\u001b[0m\u001b[0;34m(\u001b[0m\u001b[0;34m)\u001b[0m \u001b[0;31m#gpt apikey 입력\u001b[0m\u001b[0;34m\u001b[0m\u001b[0;34m\u001b[0m\u001b[0m\n\u001b[0m",
            "\u001b[0;32m/usr/local/lib/python3.10/dist-packages/ipykernel/kernelbase.py\u001b[0m in \u001b[0;36mgetpass\u001b[0;34m(self, prompt, stream)\u001b[0m\n\u001b[1;32m    832\u001b[0m             warnings.warn(\"The `stream` parameter of `getpass.getpass` will have no effect when using ipykernel\",\n\u001b[1;32m    833\u001b[0m                     UserWarning, stacklevel=2)\n\u001b[0;32m--> 834\u001b[0;31m         return self._input_request(prompt,\n\u001b[0m\u001b[1;32m    835\u001b[0m             \u001b[0mself\u001b[0m\u001b[0;34m.\u001b[0m\u001b[0m_parent_ident\u001b[0m\u001b[0;34m,\u001b[0m\u001b[0;34m\u001b[0m\u001b[0;34m\u001b[0m\u001b[0m\n\u001b[1;32m    836\u001b[0m             \u001b[0mself\u001b[0m\u001b[0;34m.\u001b[0m\u001b[0m_parent_header\u001b[0m\u001b[0;34m,\u001b[0m\u001b[0;34m\u001b[0m\u001b[0;34m\u001b[0m\u001b[0m\n",
            "\u001b[0;32m/usr/local/lib/python3.10/dist-packages/ipykernel/kernelbase.py\u001b[0m in \u001b[0;36m_input_request\u001b[0;34m(self, prompt, ident, parent, password)\u001b[0m\n\u001b[1;32m    893\u001b[0m             \u001b[0;32mexcept\u001b[0m \u001b[0mKeyboardInterrupt\u001b[0m\u001b[0;34m:\u001b[0m\u001b[0;34m\u001b[0m\u001b[0;34m\u001b[0m\u001b[0m\n\u001b[1;32m    894\u001b[0m                 \u001b[0;31m# re-raise KeyboardInterrupt, to truncate traceback\u001b[0m\u001b[0;34m\u001b[0m\u001b[0;34m\u001b[0m\u001b[0m\n\u001b[0;32m--> 895\u001b[0;31m                 \u001b[0;32mraise\u001b[0m \u001b[0mKeyboardInterrupt\u001b[0m\u001b[0;34m(\u001b[0m\u001b[0;34m\"Interrupted by user\"\u001b[0m\u001b[0;34m)\u001b[0m \u001b[0;32mfrom\u001b[0m \u001b[0;32mNone\u001b[0m\u001b[0;34m\u001b[0m\u001b[0;34m\u001b[0m\u001b[0m\n\u001b[0m\u001b[1;32m    896\u001b[0m             \u001b[0;32mexcept\u001b[0m \u001b[0mException\u001b[0m \u001b[0;32mas\u001b[0m \u001b[0me\u001b[0m\u001b[0;34m:\u001b[0m\u001b[0;34m\u001b[0m\u001b[0;34m\u001b[0m\u001b[0m\n\u001b[1;32m    897\u001b[0m                 \u001b[0mself\u001b[0m\u001b[0;34m.\u001b[0m\u001b[0mlog\u001b[0m\u001b[0;34m.\u001b[0m\u001b[0mwarning\u001b[0m\u001b[0;34m(\u001b[0m\u001b[0;34m\"Invalid Message:\"\u001b[0m\u001b[0;34m,\u001b[0m \u001b[0mexc_info\u001b[0m\u001b[0;34m=\u001b[0m\u001b[0;32mTrue\u001b[0m\u001b[0;34m)\u001b[0m\u001b[0;34m\u001b[0m\u001b[0;34m\u001b[0m\u001b[0m\n",
            "\u001b[0;31mKeyboardInterrupt\u001b[0m: Interrupted by user"
          ]
        }
      ]
    },
    {
      "cell_type": "markdown",
      "source": [
        "# GraphRAG with Neo4j and LangChain: Constructing the Graph\n",
        "## Combine text extraction, network analysis, and LLM prompting and summarization for improved RAG accuracy\n",
        "\n",
        "I am always intrigued by new approaches to implementing Retrieval-Augmented Generation (RAG) over graphs, often called GraphRAG. However, it seems that everyone has a different implementation in mind when they hear the term GraphRAG. In this blog post, we will dive deep into the “From Local to Global GraphRAG” article and implementation by Microsoft researchers. We will cover the knowledge graph construction and summarization part and leave the retrievers for the next blog post. The researchers were so kind as to provide us with the code repository, and they have a [project page](https://www.microsoft.com/en-us/research/project/graphrag/) as well.\n",
        "\n",
        "The approach taken in the article mentioned above is quite interesting. As far as I understand, it involves using a knowledge graph as a step in the pipeline for condensing and combining information from multiple sources. Extracting entities and relationships from text is nothing new. However, the authors introduce a novel (at least to me) idea of summarizing condensed graph structure and information back as natural language text. The pipeline begins with input text from documents, which are processed to generate a graph. The graph is then converted back into natural language text, where the generated text contains condensed information about specific entities or graph communities previously spread across multiple documents.\n",
        "\n",
        "![title](https://miro.medium.com/v2/resize:fit:1400/format:webp/1*NWkjGfKvWyKJsXfj-HxVjA.png)\n",
        "\n",
        "At a very high level, the input to the GraphRAG pipeline are source documents containing various information. The documents are processed using an LLM to extract structured information about entities appearing in the papers along with their relationships. This extracted structured information is then used to construct a knowledge graph.\n",
        "\n",
        "The advantage of using a knowledge graph data representation is that it can quickly and straightforwardly combine information from multiple documents or data sources about particular entities. As mentioned, the knowledge graph is not the only data representation, though. After the knowledge graph has been constructed, they use a combination of graph algorithms and LLM prompting to generate natural language summaries of communities of entities found in the knowledge graph.\n",
        "\n",
        "These summaries then contain condensed information spreading across multiple data sources and documents for particular entities and communities.\n",
        "\n",
        "For a more detailed understanding of the pipeline, we can refer to the step-by-step description provided in the original paper.\n",
        "\n",
        "![title](https://miro.medium.com/v2/resize:fit:942/format:webp/1*xn10XHns9xQ1WLQxEaSA7w.png)\n",
        "\n",
        "Following is a high-level summary of the pipeline that we will use to reproduce their approach using Neo4j and LangChain.\n",
        "\n",
        "* Indexing — Graph Generation\n",
        "Source Documents to Text Chunks: Source documents are split into smaller text chunks for processing.\n",
        "* Text Chunks to Element Instances: Each text chunk is analyzed to extract entities and relationships, producing a list of tuples representing these elements.\n",
        "* Element Instances to Element Summaries: Extracted entities and relationships are summarized by the LLM into descriptive text blocks for each element.\n",
        "* Element Summaries to Graph Communities: These entity summaries form a graph, which is then partitioned into communities using algorithms like Leiden for hierarchical structure.\n",
        "* Graph Communities to Community Summaries: Summaries of each community are generated with the LLM to understand the dataset’s global topical structure and semantics.\n",
        "\n",
        "#### Retrieval — Answering\n",
        "\n",
        "* Community Summaries to Global Answers: Community summaries are used to answer a user query by generating intermediate answers, which are then aggregated into a final global answer.\n",
        "Note that my implementation was done before their code was available, so there might be slight differences in the underlying approach or LLM prompts being used. I’ll try to explain those differences as we go along.\n",
        "\n",
        "### Setting Up the Neo4j Environment\n",
        "We will use Neo4j as the underlying graph store. The easiest way to get started is to use a free instance of Neo4j Sandbox, which offers cloud instances of the Neo4j database with the Graph Data Science plugin installed. Alternatively, you can set up a local instance of the Neo4j database by downloading the Neo4j Desktop application and creating a local database instance. If you are using a local version, make sure to install both APOC and GDS plugins. For production setups, you can use the paid, managed AuraDS (Data Science) instance, which provides the GDS plugin.\n",
        "\n",
        "We start by creating a Neo4jGraph instance, which is the convenience wrapper we added to LangChain:"
      ],
      "metadata": {
        "id": "dmnDlh4BeFJM"
      }
    },
    {
      "cell_type": "code",
      "source": [
        "from langchain_community.graphs import Neo4jGraph #\n",
        "\n",
        "os.environ[\"NEO4J_URI\"] = \"bolt://3.238.138.103:7687\"\n",
        "os.environ[\"NEO4J_USERNAME\"] = \"neo4j\"\n",
        "os.environ[\"NEO4J_PASSWORD\"] = \"debt-rains-ocean\"\n",
        "\n",
        "graph = Neo4jGraph()"
      ],
      "metadata": {
        "id": "wbCXrSxUPTIy"
      },
      "execution_count": null,
      "outputs": []
    },
    {
      "cell_type": "markdown",
      "source": [
        "### Dataset\n",
        "We will use a news article dataset I created some time ago using Diffbot’s API. I have uploaded it to my GitHub for easier reuse:"
      ],
      "metadata": {
        "id": "C2BE07dRfHf3"
      }
    },
    {
      "cell_type": "code",
      "source": [
        "import pandas as pd\n",
        "import tiktoken\n",
        "\n",
        "def num_tokens_from_string(string: str, model: str = \"gpt-4o\") -> int:\n",
        "    \"\"\"Returns the number of tokens in a text string.\"\"\"\n",
        "    encoding = tiktoken.encoding_for_model(model)\n",
        "    num_tokens = len(encoding.encode(string))\n",
        "    return num_tokens\n",
        "\n",
        "# news_articles.csv 파일을 URL을 통해 불러와서 pandas의 DataFrame으로 읽어옵니다.\n",
        "news = pd.read_csv(\n",
        "    \"https://raw.githubusercontent.com/tomasonjo/blog-datasets/main/news_articles.csv\"\n",
        ")\n",
        "\n",
        "# 각 행의 기사 제목(title)과 본문(text)을 결합한 문자열에 대해 토큰 수를 계산하여, 새로운 열 'tokens'에 저장합니다.\n",
        "news[\"tokens\"] = [\n",
        "    num_tokens_from_string(f\"{row['title']} {row['text']}\")  # 기사 제목과 본문을 결합하여 토큰 수를 계산합니다.\n",
        "    for i, row in news.iterrows()  # DataFrame의 각 행을 반복(iterate)하여 계산합니다.\n",
        "]\n",
        "\n",
        "# 데이터프레임의 처음 5개 행을 출력하여 데이터와 토큰 수가 제대로 계산되었는지 확인합니다.\n",
        "news.head()"
      ],
      "metadata": {
        "colab": {
          "base_uri": "https://localhost:8080/",
          "height": 293
        },
        "id": "VKwjKqPyP78d",
        "outputId": "9b5344cc-6cb4-4460-dcb4-bb84d8b61980"
      },
      "execution_count": null,
      "outputs": [
        {
          "output_type": "execute_result",
          "data": {
            "text/plain": [
              "                                               title  \\\n",
              "0                             Chevron: Best Of Breed   \n",
              "1       FirstEnergy (NYSE:FE) Posts Earnings Results   \n",
              "2  Dáil almost suspended after Sinn Féin TD put p...   \n",
              "3  Epic’s latest tool can animate hyperrealistic ...   \n",
              "4  EU to Ban Huawei, ZTE from Internal Commission...   \n",
              "\n",
              "                                  date  \\\n",
              "0  2031-04-06T01:36:32.000000000+00:00   \n",
              "1  2030-04-29T06:55:28.000000000+00:00   \n",
              "2  2023-06-15T14:32:11.000000000+00:00   \n",
              "3  2023-06-15T14:00:00.000000000+00:00   \n",
              "4  2023-06-15T13:50:00.000000000+00:00   \n",
              "\n",
              "                                                text  tokens  \n",
              "0  JHVEPhoto Like many companies in the O&G secto...      78  \n",
              "1  FirstEnergy (NYSE:FE – Get Rating) posted its ...     130  \n",
              "2  The Dáil was almost suspended on Thursday afte...     631  \n",
              "3  Today, Epic is releasing a new tool designed t...     528  \n",
              "4  The European Commission is planning to ban equ...     281  "
            ],
            "text/html": [
              "\n",
              "  <div id=\"df-8ae18290-9fa6-47c3-9cb6-3733cd1f4ccf\" class=\"colab-df-container\">\n",
              "    <div>\n",
              "<style scoped>\n",
              "    .dataframe tbody tr th:only-of-type {\n",
              "        vertical-align: middle;\n",
              "    }\n",
              "\n",
              "    .dataframe tbody tr th {\n",
              "        vertical-align: top;\n",
              "    }\n",
              "\n",
              "    .dataframe thead th {\n",
              "        text-align: right;\n",
              "    }\n",
              "</style>\n",
              "<table border=\"1\" class=\"dataframe\">\n",
              "  <thead>\n",
              "    <tr style=\"text-align: right;\">\n",
              "      <th></th>\n",
              "      <th>title</th>\n",
              "      <th>date</th>\n",
              "      <th>text</th>\n",
              "      <th>tokens</th>\n",
              "    </tr>\n",
              "  </thead>\n",
              "  <tbody>\n",
              "    <tr>\n",
              "      <th>0</th>\n",
              "      <td>Chevron: Best Of Breed</td>\n",
              "      <td>2031-04-06T01:36:32.000000000+00:00</td>\n",
              "      <td>JHVEPhoto Like many companies in the O&amp;G secto...</td>\n",
              "      <td>78</td>\n",
              "    </tr>\n",
              "    <tr>\n",
              "      <th>1</th>\n",
              "      <td>FirstEnergy (NYSE:FE) Posts Earnings Results</td>\n",
              "      <td>2030-04-29T06:55:28.000000000+00:00</td>\n",
              "      <td>FirstEnergy (NYSE:FE – Get Rating) posted its ...</td>\n",
              "      <td>130</td>\n",
              "    </tr>\n",
              "    <tr>\n",
              "      <th>2</th>\n",
              "      <td>Dáil almost suspended after Sinn Féin TD put p...</td>\n",
              "      <td>2023-06-15T14:32:11.000000000+00:00</td>\n",
              "      <td>The Dáil was almost suspended on Thursday afte...</td>\n",
              "      <td>631</td>\n",
              "    </tr>\n",
              "    <tr>\n",
              "      <th>3</th>\n",
              "      <td>Epic’s latest tool can animate hyperrealistic ...</td>\n",
              "      <td>2023-06-15T14:00:00.000000000+00:00</td>\n",
              "      <td>Today, Epic is releasing a new tool designed t...</td>\n",
              "      <td>528</td>\n",
              "    </tr>\n",
              "    <tr>\n",
              "      <th>4</th>\n",
              "      <td>EU to Ban Huawei, ZTE from Internal Commission...</td>\n",
              "      <td>2023-06-15T13:50:00.000000000+00:00</td>\n",
              "      <td>The European Commission is planning to ban equ...</td>\n",
              "      <td>281</td>\n",
              "    </tr>\n",
              "  </tbody>\n",
              "</table>\n",
              "</div>\n",
              "    <div class=\"colab-df-buttons\">\n",
              "\n",
              "  <div class=\"colab-df-container\">\n",
              "    <button class=\"colab-df-convert\" onclick=\"convertToInteractive('df-8ae18290-9fa6-47c3-9cb6-3733cd1f4ccf')\"\n",
              "            title=\"Convert this dataframe to an interactive table.\"\n",
              "            style=\"display:none;\">\n",
              "\n",
              "  <svg xmlns=\"http://www.w3.org/2000/svg\" height=\"24px\" viewBox=\"0 -960 960 960\">\n",
              "    <path d=\"M120-120v-720h720v720H120Zm60-500h600v-160H180v160Zm220 220h160v-160H400v160Zm0 220h160v-160H400v160ZM180-400h160v-160H180v160Zm440 0h160v-160H620v160ZM180-180h160v-160H180v160Zm440 0h160v-160H620v160Z\"/>\n",
              "  </svg>\n",
              "    </button>\n",
              "\n",
              "  <style>\n",
              "    .colab-df-container {\n",
              "      display:flex;\n",
              "      gap: 12px;\n",
              "    }\n",
              "\n",
              "    .colab-df-convert {\n",
              "      background-color: #E8F0FE;\n",
              "      border: none;\n",
              "      border-radius: 50%;\n",
              "      cursor: pointer;\n",
              "      display: none;\n",
              "      fill: #1967D2;\n",
              "      height: 32px;\n",
              "      padding: 0 0 0 0;\n",
              "      width: 32px;\n",
              "    }\n",
              "\n",
              "    .colab-df-convert:hover {\n",
              "      background-color: #E2EBFA;\n",
              "      box-shadow: 0px 1px 2px rgba(60, 64, 67, 0.3), 0px 1px 3px 1px rgba(60, 64, 67, 0.15);\n",
              "      fill: #174EA6;\n",
              "    }\n",
              "\n",
              "    .colab-df-buttons div {\n",
              "      margin-bottom: 4px;\n",
              "    }\n",
              "\n",
              "    [theme=dark] .colab-df-convert {\n",
              "      background-color: #3B4455;\n",
              "      fill: #D2E3FC;\n",
              "    }\n",
              "\n",
              "    [theme=dark] .colab-df-convert:hover {\n",
              "      background-color: #434B5C;\n",
              "      box-shadow: 0px 1px 3px 1px rgba(0, 0, 0, 0.15);\n",
              "      filter: drop-shadow(0px 1px 2px rgba(0, 0, 0, 0.3));\n",
              "      fill: #FFFFFF;\n",
              "    }\n",
              "  </style>\n",
              "\n",
              "    <script>\n",
              "      const buttonEl =\n",
              "        document.querySelector('#df-8ae18290-9fa6-47c3-9cb6-3733cd1f4ccf button.colab-df-convert');\n",
              "      buttonEl.style.display =\n",
              "        google.colab.kernel.accessAllowed ? 'block' : 'none';\n",
              "\n",
              "      async function convertToInteractive(key) {\n",
              "        const element = document.querySelector('#df-8ae18290-9fa6-47c3-9cb6-3733cd1f4ccf');\n",
              "        const dataTable =\n",
              "          await google.colab.kernel.invokeFunction('convertToInteractive',\n",
              "                                                    [key], {});\n",
              "        if (!dataTable) return;\n",
              "\n",
              "        const docLinkHtml = 'Like what you see? Visit the ' +\n",
              "          '<a target=\"_blank\" href=https://colab.research.google.com/notebooks/data_table.ipynb>data table notebook</a>'\n",
              "          + ' to learn more about interactive tables.';\n",
              "        element.innerHTML = '';\n",
              "        dataTable['output_type'] = 'display_data';\n",
              "        await google.colab.output.renderOutput(dataTable, element);\n",
              "        const docLink = document.createElement('div');\n",
              "        docLink.innerHTML = docLinkHtml;\n",
              "        element.appendChild(docLink);\n",
              "      }\n",
              "    </script>\n",
              "  </div>\n",
              "\n",
              "\n",
              "<div id=\"df-930b6cb9-e868-48e3-a8e9-86242796e5ca\">\n",
              "  <button class=\"colab-df-quickchart\" onclick=\"quickchart('df-930b6cb9-e868-48e3-a8e9-86242796e5ca')\"\n",
              "            title=\"Suggest charts\"\n",
              "            style=\"display:none;\">\n",
              "\n",
              "<svg xmlns=\"http://www.w3.org/2000/svg\" height=\"24px\"viewBox=\"0 0 24 24\"\n",
              "     width=\"24px\">\n",
              "    <g>\n",
              "        <path d=\"M19 3H5c-1.1 0-2 .9-2 2v14c0 1.1.9 2 2 2h14c1.1 0 2-.9 2-2V5c0-1.1-.9-2-2-2zM9 17H7v-7h2v7zm4 0h-2V7h2v10zm4 0h-2v-4h2v4z\"/>\n",
              "    </g>\n",
              "</svg>\n",
              "  </button>\n",
              "\n",
              "<style>\n",
              "  .colab-df-quickchart {\n",
              "      --bg-color: #E8F0FE;\n",
              "      --fill-color: #1967D2;\n",
              "      --hover-bg-color: #E2EBFA;\n",
              "      --hover-fill-color: #174EA6;\n",
              "      --disabled-fill-color: #AAA;\n",
              "      --disabled-bg-color: #DDD;\n",
              "  }\n",
              "\n",
              "  [theme=dark] .colab-df-quickchart {\n",
              "      --bg-color: #3B4455;\n",
              "      --fill-color: #D2E3FC;\n",
              "      --hover-bg-color: #434B5C;\n",
              "      --hover-fill-color: #FFFFFF;\n",
              "      --disabled-bg-color: #3B4455;\n",
              "      --disabled-fill-color: #666;\n",
              "  }\n",
              "\n",
              "  .colab-df-quickchart {\n",
              "    background-color: var(--bg-color);\n",
              "    border: none;\n",
              "    border-radius: 50%;\n",
              "    cursor: pointer;\n",
              "    display: none;\n",
              "    fill: var(--fill-color);\n",
              "    height: 32px;\n",
              "    padding: 0;\n",
              "    width: 32px;\n",
              "  }\n",
              "\n",
              "  .colab-df-quickchart:hover {\n",
              "    background-color: var(--hover-bg-color);\n",
              "    box-shadow: 0 1px 2px rgba(60, 64, 67, 0.3), 0 1px 3px 1px rgba(60, 64, 67, 0.15);\n",
              "    fill: var(--button-hover-fill-color);\n",
              "  }\n",
              "\n",
              "  .colab-df-quickchart-complete:disabled,\n",
              "  .colab-df-quickchart-complete:disabled:hover {\n",
              "    background-color: var(--disabled-bg-color);\n",
              "    fill: var(--disabled-fill-color);\n",
              "    box-shadow: none;\n",
              "  }\n",
              "\n",
              "  .colab-df-spinner {\n",
              "    border: 2px solid var(--fill-color);\n",
              "    border-color: transparent;\n",
              "    border-bottom-color: var(--fill-color);\n",
              "    animation:\n",
              "      spin 1s steps(1) infinite;\n",
              "  }\n",
              "\n",
              "  @keyframes spin {\n",
              "    0% {\n",
              "      border-color: transparent;\n",
              "      border-bottom-color: var(--fill-color);\n",
              "      border-left-color: var(--fill-color);\n",
              "    }\n",
              "    20% {\n",
              "      border-color: transparent;\n",
              "      border-left-color: var(--fill-color);\n",
              "      border-top-color: var(--fill-color);\n",
              "    }\n",
              "    30% {\n",
              "      border-color: transparent;\n",
              "      border-left-color: var(--fill-color);\n",
              "      border-top-color: var(--fill-color);\n",
              "      border-right-color: var(--fill-color);\n",
              "    }\n",
              "    40% {\n",
              "      border-color: transparent;\n",
              "      border-right-color: var(--fill-color);\n",
              "      border-top-color: var(--fill-color);\n",
              "    }\n",
              "    60% {\n",
              "      border-color: transparent;\n",
              "      border-right-color: var(--fill-color);\n",
              "    }\n",
              "    80% {\n",
              "      border-color: transparent;\n",
              "      border-right-color: var(--fill-color);\n",
              "      border-bottom-color: var(--fill-color);\n",
              "    }\n",
              "    90% {\n",
              "      border-color: transparent;\n",
              "      border-bottom-color: var(--fill-color);\n",
              "    }\n",
              "  }\n",
              "</style>\n",
              "\n",
              "  <script>\n",
              "    async function quickchart(key) {\n",
              "      const quickchartButtonEl =\n",
              "        document.querySelector('#' + key + ' button');\n",
              "      quickchartButtonEl.disabled = true;  // To prevent multiple clicks.\n",
              "      quickchartButtonEl.classList.add('colab-df-spinner');\n",
              "      try {\n",
              "        const charts = await google.colab.kernel.invokeFunction(\n",
              "            'suggestCharts', [key], {});\n",
              "      } catch (error) {\n",
              "        console.error('Error during call to suggestCharts:', error);\n",
              "      }\n",
              "      quickchartButtonEl.classList.remove('colab-df-spinner');\n",
              "      quickchartButtonEl.classList.add('colab-df-quickchart-complete');\n",
              "    }\n",
              "    (() => {\n",
              "      let quickchartButtonEl =\n",
              "        document.querySelector('#df-930b6cb9-e868-48e3-a8e9-86242796e5ca button');\n",
              "      quickchartButtonEl.style.display =\n",
              "        google.colab.kernel.accessAllowed ? 'block' : 'none';\n",
              "    })();\n",
              "  </script>\n",
              "</div>\n",
              "\n",
              "    </div>\n",
              "  </div>\n"
            ],
            "application/vnd.google.colaboratory.intrinsic+json": {
              "type": "dataframe",
              "variable_name": "news",
              "summary": "{\n  \"name\": \"news\",\n  \"rows\": 2500,\n  \"fields\": [\n    {\n      \"column\": \"title\",\n      \"properties\": {\n        \"dtype\": \"string\",\n        \"num_unique_values\": 2282,\n        \"samples\": [\n          \"Golden Cross Appears Before NetApp Investors\",\n          \"Li Auto\\u2019s EV Sales Can Be A Catalyst. The Case to Buy Stock Now.\",\n          \"SMITH MARION COMMENTS ON RECENT HUD GRANT FOR HOUSING AUTHORITIES\"\n        ],\n        \"semantic_type\": \"\",\n        \"description\": \"\"\n      }\n    },\n    {\n      \"column\": \"date\",\n      \"properties\": {\n        \"dtype\": \"object\",\n        \"num_unique_values\": 1606,\n        \"samples\": [\n          \"2023-06-14T19:43:48.000000000+00:00\",\n          \"2023-06-14T03:31:01.000000000+00:00\",\n          \"2023-06-15T08:59:25.000000000+00:00\"\n        ],\n        \"semantic_type\": \"\",\n        \"description\": \"\"\n      }\n    },\n    {\n      \"column\": \"text\",\n      \"properties\": {\n        \"dtype\": \"string\",\n        \"num_unique_values\": 2472,\n        \"samples\": [\n          \"/EIN News/ -- Fremont, California, June 14, 2023 (GLOBE NEWSWIRE) -- Omicsveu, The Spatial Multiplex Multiomics Company, announced introduction of fully automated system for Hyperion\\u2019s multiplex immunohistochemistry (IHC) protocols developed and validated in collaboration with Scientists at The University of Sydney's prestigious Charles Perkins Centre, Sydney, Australia.\\nTissue multiplexing technology has changed proteomics profiling, allowing for the simultaneous detection of multiple protein markers from a single tissue section. However, current technologies for multiplex-proteomics involve manual steps that are time-consuming, labor-intensive, expensive, and inconsistent.\\nNanoVIP - an automated, slide-based staining system - by Omicsveu using manufacturers supplied protocols and reagents, reduced hands-on time of the Hyperion protocol to less than 20 minutes and reagent costs by 80% - as it only uses 25\\u00b5L of antibody for a single sample. Further NanoVIP plug & play system doesn\\u2019t require highly skilled operators to get optimum results. Results are summarized in the table below.\\nAdrian Smith, Technical Director at Sydney Cytometry (Centenary Institute and The University of Sydney), was so impressed with NanoVIP for the automated preparation of tissue sample slides. \\u201cWe are very impressed with the instrument (and the support!), and I'm excited to see what our researchers at Sydney Cytometry will do with it!\\u201d said Dr. Smith.\\nResults are summarized in the table below.\\nAbout Omicsveu\\nOmicsveu is a special-purpose spinoff of BioGenex, designs, develops, and commercializes, fully automated plug & play, slide-staining systems. Our innovative technologies are affordable and accessible, to help accelerate developments of new diagnostics and therapeutics leading to improved disease outcome. Our systems incorporate easy to use innovative automation, ready-to-use reagents, and optimized protocols, generating reliable, consistent, and reproducible results. For more information, please visit our website at www.omicsveu.com, or connect with us on LinkedIn and Twitter.\\nContact: \\n\\nEmail: info@omicsveu.com\",\n          \"The lawsuit brought by the United States Securities and Exchange Commission (SEC) against Coinbase Global on June 6 is raising questions about the crypto exchange's approach to managing the ongoing crypto crackdown.\\nIn a recent interview with Cointelegraph, venture capitalist Kevin O'Leary criticized Coinbase's strategy to address the current regulatory environment. \\\"Its market cap was decimated [by the SEC suit], and the management there seems to want to keep taking on the SEC over and over and over again,\\\" said the serial entrepreneur in reference to the 17.4% drop in Coinbase's stock last week. O'Leary continued:\\n\\\"I would think at this point, if you\\u2019re a shareholder in that company, you may want to make some changes. I don\\u2019t think this is working as a strategy [\\u2026] I am not optimistic for the management team there [...] I think investors are done with this.\\\"\\nCoinbase has spent months campaigning for clearer crypto regulations in the U.S. amid increasing regulatory scrutiny. In a recent interview with The Wall Street Journal, Coinbase CEO Brian Armstrong said the exchange met with the SEC over 30 times in the past year without receiving any feedback on a path to compliance.\\nStock prices dropping due to regulatory activity, such as the SEC\\u2019s proceeding against Coinbase, are often used as a template for private claims of alleged damages, as long as it carries materiality of misleading statements or omissions, Mark Kornfeld, a securities and regulatory attorney, told Cointelegraph. \\\"The devil, as always, is in the details as to whether what is alleged is proven to have occurred,\\\" Kornfeld noted.\\nAccording to corporate and securities lawyer Roland Chase, legal claims from harmed investors against Coinbase and its management could range from \\\"whether the legal analysis that Coinbase conducts every time it considers a crypto asset for listing is adequate\\\" to whether its risk factor disclosure to investors was adequate.\\n\\\"If it [token's listing analysis] is not adequate, and management knew that, or was reckless in not knowing it, there may be a federal securities law claim against Coinbase and its management,\\\" Chase continued.\\nCoinbase to have reviewed over a thousand assets, with 90% being rejected. \\\"We thought some of them could be securities or we had other concerns about them. We really only list a very conservative small number of the assets out there,\\\" Armstrong told WSJ.\\nRegarding its disclosure to investors, Coinbase's filing with regulators in 2021 seemed to predict what it was likely to encounter in the future. The risks section of the filing reads:\\n\\\"A particular crypto asset\\u2019s status as a \\u201csecurity\\u201d in any relevant jurisdiction is subject to a high degree of uncertainty and if we are unable to properly characterize a crypto asset, we may be subject to regulatory scrutiny, investigations, fines, and other penalties, which may adversely affect our business, operating results, and financial condition.\\\"\\nA legal dispute with regulators could take years in court and cost the exchange significant money. Ripple, which is currently in litigation over XRP's alleged security status, has spent over $200 million defending against the SEC lawsuit since 2020.\\nCointelegraph reached out to Coinbase, but did not receive a response.\",\n          \"Informatica Corp. said today it will acquire Privitar Ltd., a London-based maker of access controls and remediation for data privacy and security, for an undisclosed amount.\\nThe company said it plans to incorporate Privitar\\u2019s technology into its Intelligent Data Management Cloud, a platform for analyzing and managing data across large enterprises. The acquisition is expected to be completed in the third quarter of this year.\\nPrivitar\\u2019s software enables businesses to support self-service access to data with collaborative workflows, regulatory controls and cross-platform security enforcement defined by a single policy. It claims to be the first vendor to apply privacy controls within complex data pipelines.\\nThe company provides auditable and compliant access to data assets that conforms to major regulations including the European Union\\u2019s General Data Protection Regulation, the California Consumer Privacy Act and Canada\\u2019s Personal Information Protection and Electronic Documents Act.\\nInformatica already provides data privacy and protection capabilities through its cloud data governance, cataloging and cloud data masking services that include policy management, data classification, sensitive data discovery, data lineage for tracking movement, and data masking for risk exposure remediation, a spokesman said. \\u201cPrivitar brings an additional and complementary level of management granularity through access control definition and policy remediation that deepen Informatica\\u2019s abilities to meet today\\u2019s modern data governance use cases,\\u201d he said.\\n\\u201cData governance and responsible use of data is a growing priority for large businesses, but too often requires trading off agility and self-service,\\u201d Informatica Chief Executive Amit Walia (pictured) said in a statement.\\nPrivitar already has numerous partnerships and a presence on cloud marketplaces. No immediate changes to those arrangements are planned, the spokesman said. \\u201cThe long-term opportunity is to provide Privitar\\u2019s capabilities through Informatica channels as well,\\u201d he said.\\nFor the immediate future, Privitar will remain a standalone product but the long-term plan is to integrate with IDMC, the spokesman said. Pricing has not been determined but the Privitar service will likely carry consumption-based pricing.\\nFounded in 2014, Privitar raised more than $150 million from 17 investors, the most recent funding round an $87 million Series C in 2020. At that time the company was valued at $400 million. Investors include HSBC Venture Capital Coverage Group, Citi Ventures Inc., Accel Partners LP and Salesforce Ventures LLC.\\nThe downward pressure on valuations created by the broad selloff in tech stocks over the past year has made startups more attractive to well-funded firms such as Informatica, which acquired 15 firms over its history, including metadata management software provider Compact Solutions LLC and machine learning technology provider GreenBay Technologies Inc., both in 2020.\\nPhoto: SiliconAngle\\nA message from John Furrier, co-founder of SiliconANGLE:\\nYour vote of support is important to us and it helps us keep the content FREE.\\nOne-click below supports our mission to provide free, deep and relevant content.\\nJoin our community on YouTube\\nJoin the community that includes more than 15,000 #CubeAlumni experts, including Amazon.com CEO Andy Jassy, Dell Technologies founder and CEO Michael Dell, Intel CEO Pat Gelsinger and many more luminaries and experts.\\n\\u201cTheCUBE is an important partner to the industry. You guys really are a part of our events and we really appreciate you coming and I know people appreciate the content you create as well\\u201d \\u2013 Andy Jassy\\nTHANK YOU\"\n        ],\n        \"semantic_type\": \"\",\n        \"description\": \"\"\n      }\n    },\n    {\n      \"column\": \"tokens\",\n      \"properties\": {\n        \"dtype\": \"number\",\n        \"std\": 190,\n        \"min\": 11,\n        \"max\": 832,\n        \"num_unique_values\": 726,\n        \"samples\": [\n          71,\n          401,\n          574\n        ],\n        \"semantic_type\": \"\",\n        \"description\": \"\"\n      }\n    }\n  ]\n}"
            }
          },
          "metadata": {},
          "execution_count": 5
        }
      ]
    },
    {
      "cell_type": "markdown",
      "source": [
        "We have the title and text of the articles available, along with their publishing date and token count using the tiktoken library.\n",
        "\n",
        "### Text Chunking\n",
        "The text chunking step is crucial and significantly impacts downstream results. The paper authors found that using smaller text chunks results in extracting more entities overall.\n",
        "\n",
        "![title](https://miro.medium.com/v2/resize:fit:1120/format:webp/1*9HdF1xQ6Tm6dazOQBFvSvg.png)\n",
        "\n",
        "As you can see, using text chunks of 2,400 tokens results in fewer extracted entities than when they used 600 tokens. Additionally, they identified that LLMs might not extract all entities on the first run. In that case, they introduce a heuristics to perform the extraction multiple times. We will talk about that more in the next section.\n",
        "\n",
        "However, there are always trade-offs. Using smaller text chunks can result in losing the context and coreferences of specific entities spread across the documents. For example, if a document mentions “John” and “he” in separate sentences, breaking the text into smaller chunks might make it unclear that “he” refers to John. Some of the coreference issues can be solved using an overlap text chunking strategy, but not all of them.\n",
        "\n",
        "Let’s examine the size of our article texts:"
      ],
      "metadata": {
        "id": "Z_nPbFIFfMqi"
      }
    },
    {
      "cell_type": "code",
      "source": [
        "import seaborn as sns\n",
        "import matplotlib.pyplot as plt\n",
        "\n",
        "# 'tokens' 열에 저장된 각 뉴스 기사의 토큰 수에 대한 히스토그램을 생성합니다.\n",
        "sns.histplot(news[\"tokens\"], kde=False)\n",
        "plt.title('Distribution of chunk sizes')  # 플롯에 제목을 설정합니다.\n",
        "plt.xlabel('Token count')  # X축에 'Token count'라는 라벨을 추가합니다.\n",
        "plt.ylabel('Frequency')  # Y축에 'Frequency'라는 라벨을 추가합니다.\n",
        "\n",
        "plt.show()  # 생성된 플롯을 화면에 표시합니다."
      ],
      "metadata": {
        "colab": {
          "base_uri": "https://localhost:8080/",
          "height": 472
        },
        "id": "ebzDWs-io-Oj",
        "outputId": "6aeddd23-5792-4ac0-b543-72d28208bee4"
      },
      "execution_count": null,
      "outputs": [
        {
          "output_type": "display_data",
          "data": {
            "text/plain": [
              "<Figure size 640x480 with 1 Axes>"
            ],
            "image/png": "[encoded data removed]"
          },
          "metadata": {}
        }
      ]
    },
    {
      "cell_type": "markdown",
      "source": [
        "The distribution of article token counts is approximately normal, with a peak of around 400 tokens. The frequency of chunks gradually increases up to this peak, then decreases symmetrically, indicating most text chunks are near the 400-token mark.\n",
        "\n",
        "Due to this distribution, we will not perform any text chunking here to avoid coreference issues. By default, the GraphRAG project uses chunk sizes of 300 tokens with 100 tokens of overlap.\n",
        "\n",
        "### Extracting Nodes and Relationships\n",
        "The next step is constructing knowledge from text chunks. For this use case, we use an LLM to extract structured information in the form of nodes and relationships from the text. You can examine the LLM prompt the authors used in the paper. They have LLM prompts where we can predefine node labels if needed, but by default, that’s optional. Additionally, the extracted relationships in the original documentation don’t really have a type, only a description. I imagine the reason behind this choice is to allow the LLM to extract and retain richer and more nuanced information as relationships. But it’s difficult to have a clean knowledge graph with no relationship-type specifications (the descriptions could go into a property).\n",
        "\n",
        "In our implementation, we will use the LLMGraphTransformer, which is available in the LangChain library. Instead of using pure prompt engineering, as the implementation in the article paper does, the LLMGraphTransformer uses the built-in function calling support to extract structured information (structured output LLMs in LangChain). You can inspect the system prompt:"
      ],
      "metadata": {
        "id": "-tBXEXvRjQVL"
      }
    },
    {
      "cell_type": "code",
      "source": [
        "from langchain_experimental.graph_transformers import LLMGraphTransformer  # 그래프 데이터를 LLM을 사용해 변환하는 클래스를 불러옵니다.\n",
        "from langchain_openai import ChatOpenAI  # OpenAI의 GPT 모델을 사용해 대화를 생성하는 클래스를 불러옵니다.\n",
        "\n",
        "llm = ChatOpenAI(temperature=0, model_name=\"gpt-4o\")  # GPT-4o 모델을 사용하도록 ChatOpenAI 객체를 생성합니다.(temperature=0은 출력의 결정성을 높여줍니다.)\n",
        "\n",
        "llm_transformer = LLMGraphTransformer(\n",
        "    llm=llm,\n",
        "    node_properties=[\"description\"],\n",
        "    relationship_properties=[\"description\"]\n",
        ")\n",
        "# GPT-4o 모델을 사용하여 그래프의 노드와 관계를 변환하는 LLMGraphTransformer 객체를 생성합니다.\n",
        "# node_properties와 relationship_properties는 변환할 때 사용할 그래프의 속성 목록을 지정합니다.\n",
        "# \"description\" 속성이 변환 대상이 됩니다."
      ],
      "metadata": {
        "id": "INfxdQRCPxyW",
        "collapsed": true
      },
      "execution_count": null,
      "outputs": []
    },
    {
      "cell_type": "code",
      "source": [
        "from typing import List  # List 타입을 사용하기 위해 불러옵니다.\n",
        "from langchain_community.graphs.graph_document import GraphDocument  # 그래프 문서를 나타내는 클래스입니다.\n",
        "from langchain_core.documents import Document  # 텍스트 데이터를 담는 문서 클래스입니다.\n",
        "\n",
        "def process_text(text: str) -> List[GraphDocument]:\n",
        "    # 입력된 텍스트를 그래프 문서로 변환하는 함수입니다.\n",
        "    doc = Document(page_content=text)  # 텍스트를 Document 객체로 변환합니다.\n",
        "    return llm_transformer.convert_to_graph_documents([doc])  # Document를 그래프 문서로 변환하여 반환합니다."
      ],
      "metadata": {
        "id": "doaut5qvTr36"
      },
      "execution_count": null,
      "outputs": []
    },
    {
      "cell_type": "markdown",
      "source": [
        "In this example, we use GPT-4o for graph extraction. The authors specifically instruct the LLM to extract entities and relationships and their descriptions. With the LangChain implementation, you can use the node_propertiesand relationship_propertiesattributes to specify which node or relationship properties you want the LLM to extract.\n",
        "\n",
        "The difference with the LLMGraphTransformer implementation is that all node or relationship properties are optional, so not all nodes will have the descriptionproperty. If we wanted, we could define a custom extraction to have a mandatory descriptionproperty, but we will skip that in this implementation.\n",
        "\n",
        "We will parallelize the requests to make the graph extraction faster and store results to Neo4j:"
      ],
      "metadata": {
        "id": "WsdJJlNpfjuy"
      }
    },
    {
      "cell_type": "code",
      "source": [
        "from concurrent.futures import ThreadPoolExecutor, as_completed  # 멀티스레딩을 위한 모듈을 불러옵니다.\n",
        "from tqdm import tqdm  # 작업 진행 상황을 시각적으로 보여주는 tqdm 라이브러리를 불러옵니다.\n",
        "\n",
        "MAX_WORKERS = 10  # 동시에 실행할 최대 작업(스레드) 수를 설정합니다.\n",
        "NUM_ARTICLES = 2000  # 처리할 기사 수를 설정합니다.\n",
        "graph_documents = []  # 변환된 그래프 문서를 저장할 리스트를 초기화합니다.\n",
        "\n",
        "with ThreadPoolExecutor(max_workers=MAX_WORKERS) as executor: # ThreadPoolExecutor를 사용해 스레드를 관리합니다.\n",
        "\n",
        "    # 모든 작업을 스레드 풀에 제출하고, future 객체들의 리스트를 생성합니다.\n",
        "    futures = [\n",
        "        executor.submit(process_text, f\"{row['title']} {row['text']}\")\n",
        "        for i, row in news.head(NUM_ARTICLES).iterrows()\n",
        "    ]\n",
        "\n",
        "    for future in tqdm(\n",
        "        as_completed(futures), total=len(futures), desc=\"Processing documents\"\n",
        "    ):\n",
        "        # 각 작업이 완료될 때까지 기다리며 진행 상황을 tqdm으로 시각화합니다.\n",
        "        graph_document = future.result()  # 작업의 결과(그래프 문서)를 가져옵니다.\n",
        "        graph_documents.extend(graph_document)  # 결과를 그래프 문서 리스트에 추가합니다.\n",
        "\n",
        "graph.add_graph_documents(\n",
        "    graph_documents,\n",
        "    baseEntityLabel=True,\n",
        "    include_source=True\n",
        ")\n",
        "# 변환된 모든 그래프 문서를 그래프에 추가합니다.\n",
        "# baseEntityLabel=True는 기본 엔터티 레이블을 사용하고, include_source=True는 원본 데이터를 포함하도록 설정합니다."
      ],
      "metadata": {
        "colab": {
          "base_uri": "https://localhost:8080/",
          "height": 447
        },
        "id": "vy9GaXqXRrQu",
        "outputId": "774a529c-bb55-4295-beaf-30014cafd3d7"
      },
      "execution_count": null,
      "outputs": [
        {
          "output_type": "stream",
          "name": "stderr",
          "text": [
            "Processing documents:   0%|          | 3/2000 [00:06<1:15:39,  2.27s/it]\n"
          ]
        },
        {
          "output_type": "error",
          "ename": "KeyboardInterrupt",
          "evalue": "",
          "traceback": [
            "\u001b[0;31m---------------------------------------------------------------------------\u001b[0m",
            "\u001b[0;31mKeyboardInterrupt\u001b[0m                         Traceback (most recent call last)",
            "\u001b[0;32m<ipython-input-10-b246caa71260>\u001b[0m in \u001b[0;36m<cell line: 8>\u001b[0;34m()\u001b[0m\n\u001b[1;32m     14\u001b[0m \u001b[0;34m\u001b[0m\u001b[0m\n\u001b[0;32m---> 15\u001b[0;31m     for future in tqdm(\n\u001b[0m\u001b[1;32m     16\u001b[0m         \u001b[0mas_completed\u001b[0m\u001b[0;34m(\u001b[0m\u001b[0mfutures\u001b[0m\u001b[0;34m)\u001b[0m\u001b[0;34m,\u001b[0m \u001b[0mtotal\u001b[0m\u001b[0;34m=\u001b[0m\u001b[0mlen\u001b[0m\u001b[0;34m(\u001b[0m\u001b[0mfutures\u001b[0m\u001b[0;34m)\u001b[0m\u001b[0;34m,\u001b[0m \u001b[0mdesc\u001b[0m\u001b[0;34m=\u001b[0m\u001b[0;34m\"Processing documents\"\u001b[0m\u001b[0;34m\u001b[0m\u001b[0;34m\u001b[0m\u001b[0m\n",
            "\u001b[0;32m/usr/local/lib/python3.10/dist-packages/tqdm/std.py\u001b[0m in \u001b[0;36m__iter__\u001b[0;34m(self)\u001b[0m\n\u001b[1;32m   1180\u001b[0m         \u001b[0;32mtry\u001b[0m\u001b[0;34m:\u001b[0m\u001b[0;34m\u001b[0m\u001b[0;34m\u001b[0m\u001b[0m\n\u001b[0;32m-> 1181\u001b[0;31m             \u001b[0;32mfor\u001b[0m \u001b[0mobj\u001b[0m \u001b[0;32min\u001b[0m \u001b[0miterable\u001b[0m\u001b[0;34m:\u001b[0m\u001b[0;34m\u001b[0m\u001b[0;34m\u001b[0m\u001b[0m\n\u001b[0m\u001b[1;32m   1182\u001b[0m                 \u001b[0;32myield\u001b[0m \u001b[0mobj\u001b[0m\u001b[0;34m\u001b[0m\u001b[0;34m\u001b[0m\u001b[0m\n",
            "\u001b[0;32m/usr/lib/python3.10/concurrent/futures/_base.py\u001b[0m in \u001b[0;36mas_completed\u001b[0;34m(fs, timeout)\u001b[0m\n\u001b[1;32m    244\u001b[0m \u001b[0;34m\u001b[0m\u001b[0m\n\u001b[0;32m--> 245\u001b[0;31m             \u001b[0mwaiter\u001b[0m\u001b[0;34m.\u001b[0m\u001b[0mevent\u001b[0m\u001b[0;34m.\u001b[0m\u001b[0mwait\u001b[0m\u001b[0;34m(\u001b[0m\u001b[0mwait_timeout\u001b[0m\u001b[0;34m)\u001b[0m\u001b[0;34m\u001b[0m\u001b[0;34m\u001b[0m\u001b[0m\n\u001b[0m\u001b[1;32m    246\u001b[0m \u001b[0;34m\u001b[0m\u001b[0m\n",
            "\u001b[0;32m/usr/lib/python3.10/threading.py\u001b[0m in \u001b[0;36mwait\u001b[0;34m(self, timeout)\u001b[0m\n\u001b[1;32m    606\u001b[0m             \u001b[0;32mif\u001b[0m \u001b[0;32mnot\u001b[0m \u001b[0msignaled\u001b[0m\u001b[0;34m:\u001b[0m\u001b[0;34m\u001b[0m\u001b[0;34m\u001b[0m\u001b[0m\n\u001b[0;32m--> 607\u001b[0;31m                 \u001b[0msignaled\u001b[0m \u001b[0;34m=\u001b[0m \u001b[0mself\u001b[0m\u001b[0;34m.\u001b[0m\u001b[0m_cond\u001b[0m\u001b[0;34m.\u001b[0m\u001b[0mwait\u001b[0m\u001b[0;34m(\u001b[0m\u001b[0mtimeout\u001b[0m\u001b[0;34m)\u001b[0m\u001b[0;34m\u001b[0m\u001b[0;34m\u001b[0m\u001b[0m\n\u001b[0m\u001b[1;32m    608\u001b[0m             \u001b[0;32mreturn\u001b[0m \u001b[0msignaled\u001b[0m\u001b[0;34m\u001b[0m\u001b[0;34m\u001b[0m\u001b[0m\n",
            "\u001b[0;32m/usr/lib/python3.10/threading.py\u001b[0m in \u001b[0;36mwait\u001b[0;34m(self, timeout)\u001b[0m\n\u001b[1;32m    319\u001b[0m             \u001b[0;32mif\u001b[0m \u001b[0mtimeout\u001b[0m \u001b[0;32mis\u001b[0m \u001b[0;32mNone\u001b[0m\u001b[0;34m:\u001b[0m\u001b[0;34m\u001b[0m\u001b[0;34m\u001b[0m\u001b[0m\n\u001b[0;32m--> 320\u001b[0;31m                 \u001b[0mwaiter\u001b[0m\u001b[0;34m.\u001b[0m\u001b[0macquire\u001b[0m\u001b[0;34m(\u001b[0m\u001b[0;34m)\u001b[0m\u001b[0;34m\u001b[0m\u001b[0;34m\u001b[0m\u001b[0m\n\u001b[0m\u001b[1;32m    321\u001b[0m                 \u001b[0mgotit\u001b[0m \u001b[0;34m=\u001b[0m \u001b[0;32mTrue\u001b[0m\u001b[0;34m\u001b[0m\u001b[0;34m\u001b[0m\u001b[0m\n",
            "\u001b[0;31mKeyboardInterrupt\u001b[0m: ",
            "\nDuring handling of the above exception, another exception occurred:\n",
            "\u001b[0;31mKeyboardInterrupt\u001b[0m                         Traceback (most recent call last)",
            "\u001b[0;32m<ipython-input-10-b246caa71260>\u001b[0m in \u001b[0;36m<cell line: 8>\u001b[0;34m()\u001b[0m\n\u001b[1;32m      6\u001b[0m \u001b[0mgraph_documents\u001b[0m \u001b[0;34m=\u001b[0m \u001b[0;34m[\u001b[0m\u001b[0;34m]\u001b[0m\u001b[0;34m\u001b[0m\u001b[0;34m\u001b[0m\u001b[0m\n\u001b[1;32m      7\u001b[0m \u001b[0;34m\u001b[0m\u001b[0m\n\u001b[0;32m----> 8\u001b[0;31m \u001b[0;32mwith\u001b[0m \u001b[0mThreadPoolExecutor\u001b[0m\u001b[0;34m(\u001b[0m\u001b[0mmax_workers\u001b[0m\u001b[0;34m=\u001b[0m\u001b[0mMAX_WORKERS\u001b[0m\u001b[0;34m)\u001b[0m \u001b[0;32mas\u001b[0m \u001b[0mexecutor\u001b[0m\u001b[0;34m:\u001b[0m\u001b[0;34m\u001b[0m\u001b[0;34m\u001b[0m\u001b[0m\n\u001b[0m\u001b[1;32m      9\u001b[0m     \u001b[0;31m# Submitting all tasks and creating a list of future objects\u001b[0m\u001b[0;34m\u001b[0m\u001b[0;34m\u001b[0m\u001b[0m\n\u001b[1;32m     10\u001b[0m     futures = [\n",
            "\u001b[0;32m/usr/lib/python3.10/concurrent/futures/_base.py\u001b[0m in \u001b[0;36m__exit__\u001b[0;34m(self, exc_type, exc_val, exc_tb)\u001b[0m\n\u001b[1;32m    647\u001b[0m \u001b[0;34m\u001b[0m\u001b[0m\n\u001b[1;32m    648\u001b[0m     \u001b[0;32mdef\u001b[0m \u001b[0m__exit__\u001b[0m\u001b[0;34m(\u001b[0m\u001b[0mself\u001b[0m\u001b[0;34m,\u001b[0m \u001b[0mexc_type\u001b[0m\u001b[0;34m,\u001b[0m \u001b[0mexc_val\u001b[0m\u001b[0;34m,\u001b[0m \u001b[0mexc_tb\u001b[0m\u001b[0;34m)\u001b[0m\u001b[0;34m:\u001b[0m\u001b[0;34m\u001b[0m\u001b[0;34m\u001b[0m\u001b[0m\n\u001b[0;32m--> 649\u001b[0;31m         \u001b[0mself\u001b[0m\u001b[0;34m.\u001b[0m\u001b[0mshutdown\u001b[0m\u001b[0;34m(\u001b[0m\u001b[0mwait\u001b[0m\u001b[0;34m=\u001b[0m\u001b[0;32mTrue\u001b[0m\u001b[0;34m)\u001b[0m\u001b[0;34m\u001b[0m\u001b[0;34m\u001b[0m\u001b[0m\n\u001b[0m\u001b[1;32m    650\u001b[0m         \u001b[0;32mreturn\u001b[0m \u001b[0;32mFalse\u001b[0m\u001b[0;34m\u001b[0m\u001b[0;34m\u001b[0m\u001b[0m\n\u001b[1;32m    651\u001b[0m \u001b[0;34m\u001b[0m\u001b[0m\n",
            "\u001b[0;32m/usr/lib/python3.10/concurrent/futures/thread.py\u001b[0m in \u001b[0;36mshutdown\u001b[0;34m(self, wait, cancel_futures)\u001b[0m\n\u001b[1;32m    233\u001b[0m         \u001b[0;32mif\u001b[0m \u001b[0mwait\u001b[0m\u001b[0;34m:\u001b[0m\u001b[0;34m\u001b[0m\u001b[0;34m\u001b[0m\u001b[0m\n\u001b[1;32m    234\u001b[0m             \u001b[0;32mfor\u001b[0m \u001b[0mt\u001b[0m \u001b[0;32min\u001b[0m \u001b[0mself\u001b[0m\u001b[0;34m.\u001b[0m\u001b[0m_threads\u001b[0m\u001b[0;34m:\u001b[0m\u001b[0;34m\u001b[0m\u001b[0;34m\u001b[0m\u001b[0m\n\u001b[0;32m--> 235\u001b[0;31m                 \u001b[0mt\u001b[0m\u001b[0;34m.\u001b[0m\u001b[0mjoin\u001b[0m\u001b[0;34m(\u001b[0m\u001b[0;34m)\u001b[0m\u001b[0;34m\u001b[0m\u001b[0;34m\u001b[0m\u001b[0m\n\u001b[0m\u001b[1;32m    236\u001b[0m     \u001b[0mshutdown\u001b[0m\u001b[0;34m.\u001b[0m\u001b[0m__doc__\u001b[0m \u001b[0;34m=\u001b[0m \u001b[0m_base\u001b[0m\u001b[0;34m.\u001b[0m\u001b[0mExecutor\u001b[0m\u001b[0;34m.\u001b[0m\u001b[0mshutdown\u001b[0m\u001b[0;34m.\u001b[0m\u001b[0m__doc__\u001b[0m\u001b[0;34m\u001b[0m\u001b[0;34m\u001b[0m\u001b[0m\n",
            "\u001b[0;32m/usr/lib/python3.10/threading.py\u001b[0m in \u001b[0;36mjoin\u001b[0;34m(self, timeout)\u001b[0m\n\u001b[1;32m   1094\u001b[0m \u001b[0;34m\u001b[0m\u001b[0m\n\u001b[1;32m   1095\u001b[0m         \u001b[0;32mif\u001b[0m \u001b[0mtimeout\u001b[0m \u001b[0;32mis\u001b[0m \u001b[0;32mNone\u001b[0m\u001b[0;34m:\u001b[0m\u001b[0;34m\u001b[0m\u001b[0;34m\u001b[0m\u001b[0m\n\u001b[0;32m-> 1096\u001b[0;31m             \u001b[0mself\u001b[0m\u001b[0;34m.\u001b[0m\u001b[0m_wait_for_tstate_lock\u001b[0m\u001b[0;34m(\u001b[0m\u001b[0;34m)\u001b[0m\u001b[0;34m\u001b[0m\u001b[0;34m\u001b[0m\u001b[0m\n\u001b[0m\u001b[1;32m   1097\u001b[0m         \u001b[0;32melse\u001b[0m\u001b[0;34m:\u001b[0m\u001b[0;34m\u001b[0m\u001b[0;34m\u001b[0m\u001b[0m\n\u001b[1;32m   1098\u001b[0m             \u001b[0;31m# the behavior of a negative timeout isn't documented, but\u001b[0m\u001b[0;34m\u001b[0m\u001b[0;34m\u001b[0m\u001b[0m\n",
            "\u001b[0;32m/usr/lib/python3.10/threading.py\u001b[0m in \u001b[0;36m_wait_for_tstate_lock\u001b[0;34m(self, block, timeout)\u001b[0m\n\u001b[1;32m   1114\u001b[0m \u001b[0;34m\u001b[0m\u001b[0m\n\u001b[1;32m   1115\u001b[0m         \u001b[0;32mtry\u001b[0m\u001b[0;34m:\u001b[0m\u001b[0;34m\u001b[0m\u001b[0;34m\u001b[0m\u001b[0m\n\u001b[0;32m-> 1116\u001b[0;31m             \u001b[0;32mif\u001b[0m \u001b[0mlock\u001b[0m\u001b[0;34m.\u001b[0m\u001b[0macquire\u001b[0m\u001b[0;34m(\u001b[0m\u001b[0mblock\u001b[0m\u001b[0;34m,\u001b[0m \u001b[0mtimeout\u001b[0m\u001b[0;34m)\u001b[0m\u001b[0;34m:\u001b[0m\u001b[0;34m\u001b[0m\u001b[0;34m\u001b[0m\u001b[0m\n\u001b[0m\u001b[1;32m   1117\u001b[0m                 \u001b[0mlock\u001b[0m\u001b[0;34m.\u001b[0m\u001b[0mrelease\u001b[0m\u001b[0;34m(\u001b[0m\u001b[0;34m)\u001b[0m\u001b[0;34m\u001b[0m\u001b[0;34m\u001b[0m\u001b[0m\n\u001b[1;32m   1118\u001b[0m                 \u001b[0mself\u001b[0m\u001b[0;34m.\u001b[0m\u001b[0m_stop\u001b[0m\u001b[0;34m(\u001b[0m\u001b[0;34m)\u001b[0m\u001b[0;34m\u001b[0m\u001b[0;34m\u001b[0m\u001b[0m\n",
            "\u001b[0;31mKeyboardInterrupt\u001b[0m: "
          ]
        }
      ]
    },
    {
      "cell_type": "markdown",
      "source": [
        "In this example, we extract graph information from 2,000 articles and store results to Neo4j. We have extracted around 13,000 entities and 16,000 relationships. Here is an example of an extracted document in the graph.\n",
        "\n",
        "\n",
        "![title](https://miro.medium.com/v2/resize:fit:952/format:webp/1*pj-V-XHmVaJE5SsOtvqOqw.png)\n",
        "\n",
        "It takes about 35 (+/- 5) minutes to complete extraction and costs about $30 with GPT-4o.\n",
        "\n",
        "In this step, the authors introduce heuristics to decide whether to extract graph information in more than one pass. For simplicity’s sake, we will only do one pass. However, if we wanted to do multiple passes, we could put the first extraction results as conversational history and simply [instruct the LLM that many entities are missing](https://github.com/microsoft/graphrag/blob/main/graphrag/index/graph/extractors/claims/prompts.py#L60), and it should extract more, like the GraphRAG authors do.\n",
        "\n",
        "Previously, I mentioned how vital text chunk size is and how it affects the number of entities extracted. Since we didn’t perform any additional text chunking, we can evaluate the distribution of extracted entities based on text chunk size:"
      ],
      "metadata": {
        "id": "iPqW-TpOftgc"
      }
    },
    {
      "cell_type": "code",
      "source": [
        "# 그래프 데이터베이스에서 문서 노드와 그 문서에 언급된 엔터티 수를 쿼리합니다.\n",
        "entity_dist = graph.query(\n",
        "    \"\"\"\n",
        "    MATCH (d:Document)\n",
        "    RETURN d.text AS text,\n",
        "           count {(d)-[:MENTIONS]->()} AS entity_count\n",
        "    \"\"\"\n",
        ")\n",
        "\n",
        "# 쿼리 결과를 pandas DataFrame으로 변환합니다.\n",
        "entity_dist_df = pd.DataFrame.from_records(entity_dist)\n",
        "\n",
        "# 각 문서의 텍스트에 대해 토큰 수를 계산하여 새로운 열 \"token_count\"에 추가합니다.\n",
        "entity_dist_df[\"token_count\"] = [\n",
        "    num_tokens_from_string(str(el)) for el in entity_dist_df[\"text\"]\n",
        "]\n",
        "\n",
        "# 토큰 수와 엔터티 수 간의 관계를 시각화하기 위해 산점도와 회귀선을 그립니다.\n",
        "sns.lmplot(\n",
        "    x=\"token_count\", y=\"entity_count\", data=entity_dist_df, line_kws={\"color\": \"red\"}\n",
        ")\n",
        "plt.title(\"Entity Count vs Token Count Distribution\")  # 그래프 제목을 설정합니다.\n",
        "plt.xlabel(\"Token Count\")  # X축 라벨을 설정합니다.\n",
        "plt.ylabel(\"Entity Count\")  # Y축 라벨을 설정합니다.\n",
        "plt.show()  # 그래프를 화면에 표시합니다."
      ],
      "metadata": {
        "colab": {
          "base_uri": "https://localhost:8080/",
          "height": 529
        },
        "id": "u2Qz8jYbpd8Z",
        "outputId": "679aa177-4852-4e77-b072-5e540ba17d48"
      },
      "execution_count": null,
      "outputs": [
        {
          "output_type": "display_data",
          "data": {
            "text/plain": [
              "<Figure size 500x500 with 1 Axes>"
            ],
            "image/png": "[encoded data removed]"
          },
          "metadata": {}
        }
      ]
    },
    {
      "cell_type": "markdown",
      "source": [
        "The scatter plot shows that while there is a positive trend, indicated by the red line, the relationship is sublinear. Most data points cluster at lower entity counts, even as token counts increase. This indicates that the number of entities extracted does not scale proportionally with the size of the text chunks. Although some outliers exist, the general pattern shows that higher token counts do not consistently lead to higher entity counts. This validates the authors’ finding that lower text chunk sizes will extract more information.\n",
        "\n",
        "I also thought it would be interesting to inspect the node degree distributions of the constructed graph. The following code retrieves and visualizes node degree distributions:"
      ],
      "metadata": {
        "id": "VyEy_AgFgDj6"
      }
    },
    {
      "cell_type": "code",
      "source": [
        "import numpy as np\n",
        "\n",
        "# 그래프 데이터베이스에서 엔터티 노드의 연결 정도(디그리)를 쿼리합니다.\n",
        "degree_dist = graph.query(\n",
        "    \"\"\"\n",
        "    MATCH (e:__Entity__)\n",
        "    RETURN count {(e)-[:!MENTIONS]-()} AS node_degree\n",
        "    \"\"\"\n",
        ")\n",
        "\n",
        "degree_dist_df = pd.DataFrame.from_records(degree_dist) # 쿼리 결과를 pandas DataFrame으로 변환합니다.\n",
        "\n",
        "# 노드 디그리의 평균과 사분위수를 계산합니다.\n",
        "mean_degree = np.mean(degree_dist_df['node_degree'])\n",
        "percentiles = np.percentile(degree_dist_df['node_degree'], [25, 50, 75, 90])\n",
        "\n",
        "# 히스토그램을 생성하고 x축을 로그 스케일로 설정합니다.\n",
        "plt.figure(figsize=(12, 6))  # 그래프의 크기를 설정합니다.\n",
        "sns.histplot(degree_dist_df['node_degree'], bins=50, kde=False, color='blue')  # 히스토그램을 그립니다.\n",
        "plt.yscale('log')  # y축을 로그 스케일로 설정합니다.\n",
        "\n",
        "# 그래프에 라벨과 제목을 추가합니다.\n",
        "plt.xlabel('Node Degree')\n",
        "plt.ylabel('Count (log scale)')\n",
        "plt.title('Node Degree Distribution')\n",
        "\n",
        "# 평균과 각 사분위수에 해당하는 수직선을 그래프에 추가합니다.\n",
        "plt.axvline(mean_degree, color='red', linestyle='dashed', linewidth=1, label=f'Mean: {mean_degree:.2f}')\n",
        "plt.axvline(percentiles[0], color='purple', linestyle='dashed', linewidth=1, label=f'25th Percentile: {percentiles[0]:.2f}')\n",
        "plt.axvline(percentiles[1], color='orange', linestyle='dashed', linewidth=1, label=f'50th Percentile: {percentiles[1]:.2f}')\n",
        "plt.axvline(percentiles[2], color='yellow', linestyle='dashed', linewidth=1, label=f'75th Percentile: {percentiles[2]:.2f}')\n",
        "plt.axvline(percentiles[3], color='brown', linestyle='dashed', linewidth=1, label=f'90th Percentile: {percentiles[3]:.2f}')\n",
        "\n",
        "plt.legend()  # 범례를 추가합니다.\n",
        "\n",
        "plt.show()  # 그래프를 화면에 표시합니다."
      ],
      "metadata": {
        "colab": {
          "base_uri": "https://localhost:8080/",
          "height": 564
        },
        "id": "eYhQaUkQOGyu",
        "outputId": "3fd9e277-2c1b-4d81-a35e-b5188c31977a"
      },
      "execution_count": null,
      "outputs": [
        {
          "output_type": "display_data",
          "data": {
            "text/plain": [
              "<Figure size 1200x600 with 1 Axes>"
            ],
            "image/png": "[encoded data removed]"
          },
          "metadata": {}
        }
      ]
    },
    {
      "cell_type": "markdown",
      "source": [
        "The node degree distribution follows a power-law pattern, indicating most nodes have very few connections while a few nodes are highly connected. The mean degree is 2.45, and the median is 1.00, showing that more than half the nodes have only one connection. Most nodes (75 percent) have two or fewer connections, and 90 percent have five or fewer. This distribution is typical of many real-world networks, where a small number of hubs have many connections, and most nodes have few.\n",
        "\n",
        "Since both node and relationship descriptions are not mandatory properties, we will also examine how many were extracted:"
      ],
      "metadata": {
        "id": "eE3oNAl6gIHH"
      }
    },
    {
      "cell_type": "code",
      "source": [
        "graph.query(\"\"\"\n",
        "MATCH (n:`__Entity__`)\n",
        "RETURN \"node\" AS type,\n",
        "       count(*) AS total_count,\n",
        "       count(n.description) AS non_null_descriptions\n",
        "UNION ALL\n",
        "MATCH (n)-[r:!MENTIONS]->()\n",
        "RETURN \"relationship\" AS type,\n",
        "       count(*) AS total_count,\n",
        "       count(r.description) AS non_null_descriptions\n",
        "\"\"\")"
      ],
      "metadata": {
        "colab": {
          "base_uri": "https://localhost:8080/"
        },
        "id": "yhOk0M-6a-a0",
        "outputId": "2930d9fa-fc7e-4276-c821-f2e3e2a9d70d"
      },
      "execution_count": null,
      "outputs": [
        {
          "output_type": "execute_result",
          "data": {
            "text/plain": [
              "[{'type': 'node', 'total_count': 12994, 'non_null_descriptions': 5926},\n",
              " {'type': 'relationship', 'total_count': 15921, 'non_null_descriptions': 5569}]"
            ]
          },
          "metadata": {},
          "execution_count": 33
        }
      ]
    },
    {
      "cell_type": "markdown",
      "source": [
        "The results show that 5,926 nodes out of 12,994 (45.6 percent) have the description property. On the other hand, only 5,569 relationships out of 15,921 (35 percent) have such a property.\n",
        "\n",
        "Note that due to the probabilistic nature of LLMs, the numbers can vary on different runs and different source data, LLMs, and prompts.\n",
        "\n",
        "### Entity Resolution\n",
        "Entity resolution (de-duplication) is crucial when constructing knowledge graphs because it ensures that each entity is uniquely and accurately represented, preventing duplicates and merging records that refer to the same real-world entity. This process is essential for maintaining data integrity and consistency within the graph. Without entity resolution, knowledge graphs would suffer from fragmented and inconsistent data, leading to errors and unreliable insights.\n",
        "\n",
        "![title](https://miro.medium.com/v2/resize:fit:1400/format:webp/0*rlWiW1sWlixDTaY0.png)\n",
        "\n",
        "This image demonstrates how a single real-world entity might appear under slightly different names in different documents and, consequently, in our graph.\n",
        "\n",
        "Moreover, sparse data becomes a significant issue without entity resolution. Incomplete or partial data from various sources can result in scattered and disconnected pieces of information, making it difficult to form a coherent and comprehensive understanding of entities. Accurate entity resolution addresses this by consolidating data, filling in gaps, and creating a unified view of each entity.\n",
        "\n",
        "Overall, entity resolution enhances the efficiency of data retrieval and integration, providing a cohesive view of information across different sources. It ultimately enables more effective question-answering based on a reliable and complete knowledge graph.\n",
        "\n",
        "Unfortunately, the authors of the GraphRAG paper did not include any entity resolution code in their repo, although they mention it in their paper. One reason for leaving this code out could be that it is tough to implement a robust and well-performing entity resolution for any given domain. You can implement custom heuristics for different nodes when dealing with pre-defined types of nodes (when they aren’t predefined, they aren’t consistent enough, like company, organization, business, etc.). However, if the node labels or types aren’t known in advance, as in our case, this becomes an even harder problem. Nonetheless, we will implement a version of entity resolution in our project here, combining text embeddings and graph algorithms with word distance and LLMs.\n",
        "\n",
        "![title](https://miro.medium.com/v2/resize:fit:1400/format:webp/1*KlLF01Imn7RlyuSWYkwnqw.png)\n",
        "\n",
        "Our process for entity resolution involves the following steps:\n",
        "\n",
        "1. Entities in the graph — Start with all entities within the graph.\n",
        "2. K-nearest graph — Construct a k-nearest neighbor graph, connecting similar entities based on text embeddings.\n",
        "3. Weakly Connected Components — Identify weakly connected components in the k-nearest graph, grouping entities that are likely to be similar. Add a word distance filtering step after these components have been identified.\n",
        "4. LLM evaluation — Use an LLM to evaluate these components and decide whether the entities within each component should be merged, resulting in a final decision on entity resolution (for example, merging ‘Silicon Valley Bank’ and ‘Silicon_Valley_Bank’ while rejecting the merge for different dates like ‘September 16, 2023’ and ‘September 2, 2023’).\n",
        "\n",
        "We begin by calculating text embeddings for the name and description properties of entities. We can use the from_existing_graph method in the Neo4jVector integration in LangChain to achieve this:"
      ],
      "metadata": {
        "id": "FVphl4p5jIZN"
      }
    },
    {
      "cell_type": "code",
      "source": [
        "from langchain_community.vectorstores import Neo4jVector  # Neo4j 벡터 저장소와 상호작용하기 위한 클래스를 불러옵니다.\n",
        "from langchain_openai import OpenAIEmbeddings # OpenAI의 임베딩을 생성하는 클래스를 불러옵니다.\n",
        "\n",
        "# Neo4j 그래프에서 기존 데이터를 사용해 벡터 저장소를 생성합니다.\n",
        "vector = Neo4jVector.from_existing_graph(\n",
        "    OpenAIEmbeddings(),  # OpenAI 임베딩 모델을 사용합니다.\n",
        "    node_label='__Entity__',  # '__Entity__' 레이블을 가진 노드들을 대상으로 합니다.\n",
        "    text_node_properties=['id', 'description'],  # 'id'와 'description' 속성을 텍스트로 사용해 임베딩을 생성합니다.\n",
        "    embedding_node_property='embedding'  # 임베딩 결과를 'embedding' 속성에 저장합니다.\n",
        ")"
      ],
      "metadata": {
        "id": "LYkKe0XOWPTw",
        "outputId": "1cfbde44-077e-48f6-8cd8-616d5b5f17a9",
        "colab": {
          "base_uri": "https://localhost:8080/"
        }
      },
      "execution_count": null,
      "outputs": [
        {
          "output_type": "stream",
          "name": "stderr",
          "text": [
            "WARNING:neo4j.notifications:Received notification from DBMS server: {severity: WARNING} {code: Neo.ClientNotification.Statement.FeatureDeprecationWarning} {category: DEPRECATION} {title: This feature is deprecated and will be removed in future versions.} {description: The query used a deprecated procedure. ('db.create.setVectorProperty' has been replaced by 'db.create.setNodeVectorProperty')} {position: line: 1, column: 72, offset: 71} for query: \"UNWIND $data AS row MATCH (n:`__Entity__`) WHERE elementId(n) = row.id CALL db.create.setVectorProperty(n, 'embedding', row.embedding) YIELD node RETURN count(*)\"\n",
            "WARNING:neo4j.notifications:Received notification from DBMS server: {severity: WARNING} {code: Neo.ClientNotification.Statement.FeatureDeprecationWarning} {category: DEPRECATION} {title: This feature is deprecated and will be removed in future versions.} {description: The query used a deprecated procedure. ('db.create.setVectorProperty' has been replaced by 'db.create.setNodeVectorProperty')} {position: line: 1, column: 72, offset: 71} for query: \"UNWIND $data AS row MATCH (n:`__Entity__`) WHERE elementId(n) = row.id CALL db.create.setVectorProperty(n, 'embedding', row.embedding) YIELD node RETURN count(*)\"\n",
            "WARNING:neo4j.notifications:Received notification from DBMS server: {severity: WARNING} {code: Neo.ClientNotification.Statement.FeatureDeprecationWarning} {category: DEPRECATION} {title: This feature is deprecated and will be removed in future versions.} {description: The query used a deprecated procedure. ('db.create.setVectorProperty' has been replaced by 'db.create.setNodeVectorProperty')} {position: line: 1, column: 72, offset: 71} for query: \"UNWIND $data AS row MATCH (n:`__Entity__`) WHERE elementId(n) = row.id CALL db.create.setVectorProperty(n, 'embedding', row.embedding) YIELD node RETURN count(*)\"\n",
            "WARNING:neo4j.notifications:Received notification from DBMS server: {severity: WARNING} {code: Neo.ClientNotification.Statement.FeatureDeprecationWarning} {category: DEPRECATION} {title: This feature is deprecated and will be removed in future versions.} {description: The query used a deprecated procedure. ('db.create.setVectorProperty' has been replaced by 'db.create.setNodeVectorProperty')} {position: line: 1, column: 72, offset: 71} for query: \"UNWIND $data AS row MATCH (n:`__Entity__`) WHERE elementId(n) = row.id CALL db.create.setVectorProperty(n, 'embedding', row.embedding) YIELD node RETURN count(*)\"\n",
            "WARNING:neo4j.notifications:Received notification from DBMS server: {severity: WARNING} {code: Neo.ClientNotification.Statement.FeatureDeprecationWarning} {category: DEPRECATION} {title: This feature is deprecated and will be removed in future versions.} {description: The query used a deprecated procedure. ('db.create.setVectorProperty' has been replaced by 'db.create.setNodeVectorProperty')} {position: line: 1, column: 72, offset: 71} for query: \"UNWIND $data AS row MATCH (n:`__Entity__`) WHERE elementId(n) = row.id CALL db.create.setVectorProperty(n, 'embedding', row.embedding) YIELD node RETURN count(*)\"\n",
            "WARNING:neo4j.notifications:Received notification from DBMS server: {severity: WARNING} {code: Neo.ClientNotification.Statement.FeatureDeprecationWarning} {category: DEPRECATION} {title: This feature is deprecated and will be removed in future versions.} {description: The query used a deprecated procedure. ('db.create.setVectorProperty' has been replaced by 'db.create.setNodeVectorProperty')} {position: line: 1, column: 72, offset: 71} for query: \"UNWIND $data AS row MATCH (n:`__Entity__`) WHERE elementId(n) = row.id CALL db.create.setVectorProperty(n, 'embedding', row.embedding) YIELD node RETURN count(*)\"\n",
            "WARNING:neo4j.notifications:Received notification from DBMS server: {severity: WARNING} {code: Neo.ClientNotification.Statement.FeatureDeprecationWarning} {category: DEPRECATION} {title: This feature is deprecated and will be removed in future versions.} {description: The query used a deprecated procedure. ('db.create.setVectorProperty' has been replaced by 'db.create.setNodeVectorProperty')} {position: line: 1, column: 72, offset: 71} for query: \"UNWIND $data AS row MATCH (n:`__Entity__`) WHERE elementId(n) = row.id CALL db.create.setVectorProperty(n, 'embedding', row.embedding) YIELD node RETURN count(*)\"\n",
            "WARNING:neo4j.notifications:Received notification from DBMS server: {severity: WARNING} {code: Neo.ClientNotification.Statement.FeatureDeprecationWarning} {category: DEPRECATION} {title: This feature is deprecated and will be removed in future versions.} {description: The query used a deprecated procedure. ('db.create.setVectorProperty' has been replaced by 'db.create.setNodeVectorProperty')} {position: line: 1, column: 72, offset: 71} for query: \"UNWIND $data AS row MATCH (n:`__Entity__`) WHERE elementId(n) = row.id CALL db.create.setVectorProperty(n, 'embedding', row.embedding) YIELD node RETURN count(*)\"\n",
            "WARNING:neo4j.notifications:Received notification from DBMS server: {severity: WARNING} {code: Neo.ClientNotification.Statement.FeatureDeprecationWarning} {category: DEPRECATION} {title: This feature is deprecated and will be removed in future versions.} {description: The query used a deprecated procedure. ('db.create.setVectorProperty' has been replaced by 'db.create.setNodeVectorProperty')} {position: line: 1, column: 72, offset: 71} for query: \"UNWIND $data AS row MATCH (n:`__Entity__`) WHERE elementId(n) = row.id CALL db.create.setVectorProperty(n, 'embedding', row.embedding) YIELD node RETURN count(*)\"\n",
            "WARNING:neo4j.notifications:Received notification from DBMS server: {severity: WARNING} {code: Neo.ClientNotification.Statement.FeatureDeprecationWarning} {category: DEPRECATION} {title: This feature is deprecated and will be removed in future versions.} {description: The query used a deprecated procedure. ('db.create.setVectorProperty' has been replaced by 'db.create.setNodeVectorProperty')} {position: line: 1, column: 72, offset: 71} for query: \"UNWIND $data AS row MATCH (n:`__Entity__`) WHERE elementId(n) = row.id CALL db.create.setVectorProperty(n, 'embedding', row.embedding) YIELD node RETURN count(*)\"\n",
            "WARNING:neo4j.notifications:Received notification from DBMS server: {severity: WARNING} {code: Neo.ClientNotification.Statement.FeatureDeprecationWarning} {category: DEPRECATION} {title: This feature is deprecated and will be removed in future versions.} {description: The query used a deprecated procedure. ('db.create.setVectorProperty' has been replaced by 'db.create.setNodeVectorProperty')} {position: line: 1, column: 72, offset: 71} for query: \"UNWIND $data AS row MATCH (n:`__Entity__`) WHERE elementId(n) = row.id CALL db.create.setVectorProperty(n, 'embedding', row.embedding) YIELD node RETURN count(*)\"\n",
            "WARNING:neo4j.notifications:Received notification from DBMS server: {severity: WARNING} {code: Neo.ClientNotification.Statement.FeatureDeprecationWarning} {category: DEPRECATION} {title: This feature is deprecated and will be removed in future versions.} {description: The query used a deprecated procedure. ('db.create.setVectorProperty' has been replaced by 'db.create.setNodeVectorProperty')} {position: line: 1, column: 72, offset: 71} for query: \"UNWIND $data AS row MATCH (n:`__Entity__`) WHERE elementId(n) = row.id CALL db.create.setVectorProperty(n, 'embedding', row.embedding) YIELD node RETURN count(*)\"\n",
            "WARNING:neo4j.notifications:Received notification from DBMS server: {severity: WARNING} {code: Neo.ClientNotification.Statement.FeatureDeprecationWarning} {category: DEPRECATION} {title: This feature is deprecated and will be removed in future versions.} {description: The query used a deprecated procedure. ('db.create.setVectorProperty' has been replaced by 'db.create.setNodeVectorProperty')} {position: line: 1, column: 72, offset: 71} for query: \"UNWIND $data AS row MATCH (n:`__Entity__`) WHERE elementId(n) = row.id CALL db.create.setVectorProperty(n, 'embedding', row.embedding) YIELD node RETURN count(*)\"\n"
          ]
        }
      ]
    },
    {
      "cell_type": "markdown",
      "source": [
        "We can use these embeddings to find potential candidates that are similar based on the cosine distance of these embeddings. We will use graph algorithms available in the Graph Data Science (GDS) library; therefore, we can use the GDS Python client for ease of use in a Pythonic way:"
      ],
      "metadata": {
        "id": "9wvxowyhgk5J"
      }
    },
    {
      "cell_type": "code",
      "source": [
        "from graphdatascience import GraphDataScience\n",
        "# GraphDataScience 라이브러리에서 GraphDataScience 클래스를 불러옵니다.\n",
        "# 이 클래스는 Neo4j 데이터베이스와 상호작용하기 위한 기능을 제공합니다.\n",
        "\n",
        "# Neo4j 데이터베이스에 연결하기 위해 GraphDataScience 객체를 생성합니다.\n",
        "gds = GraphDataScience(\n",
        "    os.environ[\"NEO4J_URI\"],  # Neo4j 데이터베이스의 URI를 환경 변수에서 가져옵니다.\n",
        "    auth=(os.environ[\"NEO4J_USERNAME\"], os.environ[\"NEO4J_PASSWORD\"])  # 사용자명과 비밀번호를 환경 변수에서 가져와 인증합니다.\n",
        ")"
      ],
      "metadata": {
        "id": "3L4VqsAmYspT",
        "outputId": "aa36fab4-3047-4c4e-9de8-e2588852d200",
        "colab": {
          "base_uri": "https://localhost:8080/"
        }
      },
      "execution_count": null,
      "outputs": [
        {
          "output_type": "stream",
          "name": "stderr",
          "text": [
            "WARNING:neo4j.notifications:Received notification from DBMS server: {severity: WARNING} {code: Neo.ClientNotification.Statement.FeatureDeprecationWarning} {category: DEPRECATION} {title: This feature is deprecated and will be removed in future versions.} {description: The query used a deprecated field from a procedure. ('advertisedListenAddress' returned by 'gds.debug.arrow' is deprecated.)} {position: line: 1, column: 1, offset: 0} for query: 'CALL gds.debug.arrow()'\n",
            "WARNING:neo4j.notifications:Received notification from DBMS server: {severity: WARNING} {code: Neo.ClientNotification.Statement.FeatureDeprecationWarning} {category: DEPRECATION} {title: This feature is deprecated and will be removed in future versions.} {description: The query used a deprecated field from a procedure. ('serverLocation' returned by 'gds.debug.arrow' is deprecated.)} {position: line: 1, column: 1, offset: 0} for query: 'CALL gds.debug.arrow()'\n"
          ]
        }
      ]
    },
    {
      "cell_type": "markdown",
      "source": [
        "If you are not familiar with the GDS library, we first have to project an in-memory graph before we can execute any graph algorithms.\n",
        "\n",
        "![title](https://miro.medium.com/v2/resize:fit:1268/format:webp/1*YdEljYtG2ddd7DrrlzS6yg.png)\n",
        "\n",
        "First, the Neo4j stored graph is projected into an in-memory graph for faster processing and analysis. Next, a graph algorithm is executed on the in-memory graph. Optionally, the algorithm’s results can be stored back into the Neo4j database. Learn more about it in the documentation.\n",
        "\n",
        "To create the k-nearest neighbor graph, we will project all entities along with their text embeddings:"
      ],
      "metadata": {
        "id": "UGy3e-g6gl-r"
      }
    },
    {
      "cell_type": "code",
      "source": [
        "G, result = gds.graph.project(\n",
        "    \"entities\",                   # 생성할 그래프의 이름을 \"entities\"로 지정합니다.\n",
        "    \"__Entity__\",                 # \"__Entity__\" 레이블을 가진 노드를 그래프에 포함시킵니다.\n",
        "    \"*\",                          # 모든 관계(엣지)를 그래프에 포함시킵니다.\n",
        "    nodeProperties=[\"embedding\"]  # 노드의 \"embedding\" 속성을 그래프에 포함시킵니다.\n",
        ")"
      ],
      "metadata": {
        "id": "nJpLldiUdpsO",
        "outputId": "676529b4-a41c-4581-c0de-4a8275a177c9",
        "colab": {
          "base_uri": "https://localhost:8080/",
          "height": 49,
          "referenced_widgets": [
            "3882f5d9054d48cda5b5e2009ad7a9b6",
            "eb7841f10d1948389920a24690ef421b",
            "71885f8fda5246fc8e6c5e3797679158",
            "c285ed227c16418ba6a0c48b353d72ee",
            "8316bd062e1f45118452ee31be1dc195",
            "3d221ca56d12435abfc8f0468f143e7d",
            "388614f2882a449fb87e9453b2a7f527",
            "06b5fd0836ec4f48ba62e44b2717279b",
            "fc56e53314f34d18a38afd8cb29fafb4",
            "8502377116284921bc42589b482d38d9",
            "49dde26b14ac4aa2aa54651453009aeb"
          ]
        }
      },
      "execution_count": null,
      "outputs": [
        {
          "output_type": "display_data",
          "data": {
            "text/plain": [
              "Loading:   0%|          | 0/100 [00:00<?, ?%/s]"
            ],
            "application/vnd.jupyter.widget-view+json": {
              "version_major": 2,
              "version_minor": 0,
              "model_id": "3882f5d9054d48cda5b5e2009ad7a9b6"
            }
          },
          "metadata": {}
        }
      ]
    },
    {
      "cell_type": "markdown",
      "source": [
        "Now that the graph is projected under the entities name, we can execute graph algorithms. We will begin by constructing a k-nearest graph. The two most important parameters influencing how sparse or dense the k-nearest graph will be are similarityCutoff and topK. The topKis the number of neighbors to find for each node, with a minimum value of 1. The similarity cutoff filters out relationships with similarity below this threshold. Here, we will use a default topKof 10 and a relatively high similarity cutoff of 0.95. Using a high similarity cutoff, such as 0.95, ensures that only highly similar pairs are considered matches, minimizing false positives and improving accuracy.\n",
        "\n",
        "![title](https://miro.medium.com/v2/resize:fit:942/format:webp/1*Wt_9Tj9P_FsU7w1IvpO39g.png)\n",
        "\n",
        "Since we want to store the results back to the projected in-memory graph instead of the knowledge graph, we will use the mutate mode of the algorithm:"
      ],
      "metadata": {
        "id": "Fthtqjo-gw2F"
      }
    },
    {
      "cell_type": "code",
      "source": [
        "similarity_threshold = 0.95 # 유사도 임계값을 0.95로 설정합니다. 이 값보다 유사도가 낮은 관계는 무시됩니다.\n",
        "\n",
        "gds.knn.mutate(\n",
        "  G,                             # K-NN 그래프를 생성할 대상 그래프 객체입니다.\n",
        "  nodeProperties=['embedding'],  # 노드의 'embedding' 속성을 사용해 유사도를 계산합니다.\n",
        "  mutateRelationshipType= 'SIMILAR',  # 생성된 관계를 'SIMILAR' 타입으로 지정합니다.\n",
        "  mutateProperty= 'score',       # 유사도 점수를 'score' 속성으로 저장합니다.\n",
        "  similarityCutoff=similarity_threshold  # 유사도 임계값을 0.95로 설정해, 이 값을 넘는 유사한 노드들만 연결합니다.\n",
        ")"
      ],
      "metadata": {
        "colab": {
          "base_uri": "https://localhost:8080/",
          "height": 263,
          "referenced_widgets": [
            "df4cec7aa8f144e4bfcbb0dcbf1b1746",
            "70e2c72d9d404f4aa8c2b764e7af7b93",
            "55ecc81af9c44546b8a8140a821003ac",
            "c3da34580c2342d597c65787cb15013e",
            "290b8c08c2b648889c5ac98e59efbb70",
            "d289f0a2b44a4760ad3deb3e52bd529b",
            "37adfa0460674f18b40c32e7d412ad98",
            "aca4392d8f0640d19026ad011e047e42",
            "76562367afe7484ab28e83d450e45785",
            "60ed05fde48d44ac831cd72e5e249b28",
            "47751790b8d94346bf786df2fcaf16b5"
          ]
        },
        "id": "DWdGhMmgeuFL",
        "outputId": "72e71712-08ed-4f42-bcbd-e25be6021392"
      },
      "execution_count": null,
      "outputs": [
        {
          "output_type": "display_data",
          "data": {
            "text/plain": [
              "Knn:   0%|          | 0/100 [00:00<?, ?%/s]"
            ],
            "application/vnd.jupyter.widget-view+json": {
              "version_major": 2,
              "version_minor": 0,
              "model_id": "df4cec7aa8f144e4bfcbb0dcbf1b1746"
            }
          },
          "metadata": {}
        },
        {
          "output_type": "execute_result",
          "data": {
            "text/plain": [
              "ranIterations                                                            98\n",
              "nodePairsConsidered                                                19544904\n",
              "didConverge                                                            True\n",
              "preProcessingMillis                                                       0\n",
              "computeMillis                                                        120385\n",
              "mutateMillis                                                            304\n",
              "postProcessingMillis                                                      0\n",
              "nodesCompared                                                         12994\n",
              "relationshipsWritten                                                  30581\n",
              "similarityDistribution    {'min': 0.9500007629394531, 'p5': 0.9507102966...\n",
              "configuration             {'mutateProperty': 'score', 'jobId': '75e68cfd...\n",
              "Name: 0, dtype: object"
            ]
          },
          "metadata": {},
          "execution_count": 37
        }
      ]
    },
    {
      "cell_type": "markdown",
      "source": [
        "The next step is to identify groups of entities that are connected with the newly inferred similarity relationships. Identifying groups of connected nodes is a frequent process in network analysis, often called community detection or clustering, which involves finding subgroups of densely connected nodes. In this example, we will use the Weakly Connected Components algorithm, which helps us find parts of a graph where all nodes are connected, even if we ignore the direction of the connections.\n",
        "\n",
        "![title](https://miro.medium.com/v2/resize:fit:1400/format:webp/1*ZhawRXqvoZ6EuuUzacCf7A.png)\n",
        "\n",
        "We use the algorithm’s write mode to store the results back to the database (stored graph):"
      ],
      "metadata": {
        "id": "-Dg7vZrGg7ZW"
      }
    },
    {
      "cell_type": "code",
      "source": [
        "gds.wcc.write(\n",
        "    G,                            # WCC 알고리즘을 실행할 대상 그래프 객체입니다.\n",
        "    writeProperty=\"wcc\",          # WCC 알고리즘의 결과를 저장할 노드 속성 이름을 \"wcc\"로 지정합니다.\n",
        "    relationshipTypes=[\"SIMILAR\"] # \"SIMILAR\" 관계 타입만을 고려하여 WCC를 수행합니다.\n",
        ")\n"
      ],
      "metadata": {
        "colab": {
          "base_uri": "https://localhost:8080/"
        },
        "id": "Juc1fFiFf73-",
        "outputId": "c9c76c9c-6a11-47cd-f800-f9e6c1890eff"
      },
      "execution_count": null,
      "outputs": [
        {
          "output_type": "execute_result",
          "data": {
            "text/plain": [
              "writeMillis                                                           3504\n",
              "nodePropertiesWritten                                                12994\n",
              "componentCount                                                        6297\n",
              "componentDistribution    {'min': 1, 'p5': 1, 'max': 5174, 'p999': 13, '...\n",
              "postProcessingMillis                                                    88\n",
              "preProcessingMillis                                                      0\n",
              "computeMillis                                                           76\n",
              "configuration            {'writeProperty': 'wcc', 'jobId': '6b05be62-76...\n",
              "Name: 0, dtype: object"
            ]
          },
          "metadata": {},
          "execution_count": 38
        }
      ]
    },
    {
      "cell_type": "markdown",
      "source": [
        "Text embedding comparison helps find potential duplicates, but it is only part of the entity resolution process. For example, Google and Apple are very close in the embedding space (0.96 cosine similarity using the ada-002 embedding model). The same goes for BMW and Mercedes Benz (0.97 cosine similarity). High text embedding similarity is a good start, but we can improve it. Therefore, we will add an additional filter allowing only pairs of words with a text distance of three or fewer (meaning that only the characters can be changed):"
      ],
      "metadata": {
        "id": "V8euMSB4hElG"
      }
    },
    {
      "cell_type": "code",
      "source": [
        "# word_edit_distance라는 변수를 3으로 설정 (편집 거리 기준을 3으로 설정)\n",
        "word_edit_distance = 3\n",
        "# 그래프 데이터베이스에서 쿼리를 실행하여 잠재적인 중복 후보를 찾는 과정\n",
        "potential_duplicate_candidates = graph.query(\n",
        "    \"\"\"\n",
        "    // __Entity__ 레이블을 가진 모든 노드를 e로 매칭\n",
        "    MATCH (e:`__Entity__`)\n",
        "    // 노드의 ID 길이가 4자 이상인 것만 선택\n",
        "    WHERE size(e.id) > 4\n",
        "    // 각 노드의 wcc (약하게 연결된 컴포넌트)를 community로 묶고, 이 노드들을 nodes로 수집\n",
        "    WITH e.wcc AS community, collect(e) AS nodes, count(*) AS count\n",
        "    // 각 community 내에서 노드의 수가 1보다 큰 것만 필터링\n",
        "    WHERE count > 1\n",
        "    // nodes 리스트를 node로 분해하여 각 노드를 가져옴\n",
        "    UNWIND nodes AS node\n",
        "    // 텍스트 거리를 계산\n",
        "    // node.id와 다른 노드 n.id의 편집 거리가 지정된 값(distance)보다 작은 것들을 필터링하여 intermediate_results로 수집\n",
        "    WITH distinct\n",
        "      [n IN nodes WHERE apoc.text.distance(toLower(node.id), toLower(n.id)) < $distance | n.id] AS intermediate_results\n",
        "    // 중간 결과(intermediate_results)의 크기가 1보다 큰 경우만 유지\n",
        "    WHERE size(intermediate_results) > 1\n",
        "    // intermediate_results를 결과로 수집\n",
        "    WITH collect(intermediate_results) AS results\n",
        "    // 결과 내에서 인덱스를 하나씩 가져옴\n",
        "    UNWIND range(0, size(results)-1, 1) as index\n",
        "    // 각 결과와 인덱스를 가져옴\n",
        "    WITH results, index, results[index] as result\n",
        "    // reduce 함수를 사용하여 결과를 결합\n",
        "    // 만약 두 결과(result)가 공통 요소를 가지면 이를 결합하여 combinedResult로 저장\n",
        "    WITH apoc.coll.sort(reduce(acc = result, index2 IN range(0, size(results)-1, 1) |\n",
        "            CASE WHEN index <> index2 AND\n",
        "                size(apoc.coll.intersection(acc, results[index2])) > 0\n",
        "                THEN apoc.coll.union(acc, results[index2])\n",
        "                ELSE acc\n",
        "            END\n",
        "    )) as combinedResult\n",
        "    // 중복된 결과를 제거\n",
        "    WITH distinct(combinedResult) as combinedResult\n",
        "    // 추가 필터링 단계\n",
        "    WITH collect(combinedResult) as allCombinedResults\n",
        "    // 결합된 결과들을 다시 분해\n",
        "    UNWIND range(0, size(allCombinedResults)-1, 1) as combinedResultIndex\n",
        "    // 각 결합된 결과와 인덱스를 가져옴\n",
        "    WITH allCombinedResults[combinedResultIndex] as combinedResult, combinedResultIndex, allCombinedResults\n",
        "    // 다른 결합된 결과에 포함되지 않은 것들만 선택\n",
        "    WHERE NOT any(x IN range(0,size(allCombinedResults)-1,1)\n",
        "        WHERE x <> combinedResultIndex\n",
        "        AND apoc.coll.containsAll(allCombinedResults[x], combinedResult)\n",
        "    )\n",
        "    // 최종 결합된 결과를 반환\n",
        "    RETURN combinedResult\n",
        "    \"\"\", params={'distance': word_edit_distance})\n",
        "# 상위 5개의 잠재적 중복 후보를 출력\n",
        "potential_duplicate_candidates[:5]"
      ],
      "metadata": {
        "colab": {
          "base_uri": "https://localhost:8080/"
        },
        "id": "S2mjWpcagO-h",
        "outputId": "9016a6b2-1497-4ae8-c461-f933c0533e41"
      },
      "execution_count": null,
      "outputs": [
        {
          "output_type": "execute_result",
          "data": {
            "text/plain": [
              "[{'combinedResult': ['Dekra',\n",
              "   'Jeeps',\n",
              "   'Kenya',\n",
              "   'Kerry',\n",
              "   'Leeds',\n",
              "   'Lexus',\n",
              "   'Leyla',\n",
              "   'Newry',\n",
              "   'Telcos',\n",
              "   'Telecoms',\n",
              "   'Telia',\n",
              "   'Telkom',\n",
              "   'Telus',\n",
              "   'Tenaa',\n",
              "   'Terra',\n",
              "   'Tesco',\n",
              "   'Tesla']},\n",
              " {'combinedResult': ['Unreal Engine', 'Unreal_Engine']},\n",
              " {'combinedResult': ['Bank Of America', 'Bank_Of_America']},\n",
              " {'combinedResult': ['Sinn Fein', 'Sinn Féin']},\n",
              " {'combinedResult': ['John Brady', 'John Grady']}]"
            ]
          },
          "metadata": {},
          "execution_count": 40
        }
      ]
    },
    {
      "cell_type": "markdown",
      "source": [
        "This Cypher statement is slightly more involved, and its interpretation is beyond the scope of this blog post. You can always ask an LLM to interpret it.\n",
        "\n",
        "Additionally, the word distance cutoff could be a function of the length of the word instead of a single number and the implementation could be more scalable.\n",
        "\n",
        "What is important is that it outputs groups of potential entities we might want to merge.\n",
        "\n",
        "As you can see, our resolution approach works better for some node types than others. Based on a quick examination, it seems to work better for people and organizations, while it’s pretty bad for dates. If we used predefined node types, we could prepare different heuristics for various node types. In this example, we do not have predefined node labels, so we will turn to an LLM to make the final decision about whether entities should be merged or not.\n",
        "\n",
        "First, we need to formulate the LLM prompt to effectively guide and inform the final decision regarding the merging of the nodes:"
      ],
      "metadata": {
        "id": "0X-UwzLqhJT9"
      }
    },
    {
      "cell_type": "code",
      "source": [
        "# 시스템의 역할과 작업을 정의하는 시스템 프롬프트\n",
        "system_prompt = \"\"\"You are a data processing assistant. Your task is to identify duplicate entities in a list and decide which of them should be merged.\n",
        "The entities might be slightly different in format or content, but essentially refer to the same thing. Use your analytical skills to determine duplicates.\n",
        "\n",
        "Here are the rules for identifying duplicates:\n",
        "1. Entities with minor typographical differences should be considered duplicates.\n",
        "2. Entities with different formats but the same content should be considered duplicates.\n",
        "3. Entities that refer to the same real-world object or concept, even if described differently, should be considered duplicates.\n",
        "4. If it refers to different numbers, dates, or products, do not merge results\n",
        "\"\"\"\n",
        "\n",
        "# 사용자가 입력할 템플릿을 정의하는 코드\n",
        "user_template = \"\"\"\n",
        "Here is the list of entities to process:\n",
        "{entities}\n",
        "\n",
        "Please identify duplicates, merge them, and provide the merged list.\n",
        "\"\"\""
      ],
      "metadata": {
        "id": "ABQOLHRshVU_"
      },
      "execution_count": null,
      "outputs": []
    },
    {
      "cell_type": "markdown",
      "source": [
        "I always like to use with_structured_output method in LangChain when expecting structured data output to avoid having to parse the outputs manually.\n",
        "\n",
        "Here, we will define the output as a list of lists, where each inner list contains the entities that should be merged. This structure is used to handle scenarios where, for example, the input might be [Sony, Sony Inc, Google, Google Inc]. In such cases, you would want to merge “Sony” and “Sony Inc” separately from “Google” and “Google Inc.”"
      ],
      "metadata": {
        "id": "1CbHzuTohXzw"
      }
    },
    {
      "cell_type": "code",
      "source": [
        "from langchain_core.pydantic_v1 import BaseModel, Field\n",
        "from typing import List, Optional\n",
        "from langchain_core.prompts import ChatPromptTemplate\n",
        "from retry import retry\n",
        "\n",
        "# 중복된 엔티티를 위한 데이터 모델 정의\n",
        "class DuplicateEntities(BaseModel):\n",
        "    entities: List[str] = Field(\n",
        "        description=\"Entities that represent the same object or real-world entity and should be merged\"\n",
        "    )\n",
        "\n",
        "# 엔티티 병합 결과를 위한 데이터 모델 정의\n",
        "class Disambiguate(BaseModel):\n",
        "    merge_entities: Optional[List[DuplicateEntities]] = Field(\n",
        "        description=\"Lists of entities that represent the same object or real-world entity and should be merged\"\n",
        "    )\n",
        "\n",
        "# GPT-4 모델을 설정하여 구조화된 출력(Disambiguate 모델)을 생성하도록 설정\n",
        "extraction_llm = ChatOpenAI(model_name=\"gpt-4o\").with_structured_output(\n",
        "    Disambiguate\n",
        ")\n",
        "\n",
        "# 시스템 및 사용자 메시지를 사용하여 채팅 프롬프트 템플릿 생성\n",
        "extraction_prompt = ChatPromptTemplate.from_messages(\n",
        "    [\n",
        "        (\n",
        "            \"system\",\n",
        "            system_prompt,   # 시스템 프롬프트 사용\n",
        "        ),\n",
        "        (\n",
        "            \"human\",\n",
        "            user_template,  # 사용자 템플릿 사용\n",
        "        ),\n",
        "    ]\n",
        ")"
      ],
      "metadata": {
        "id": "f3uaBpUEF3EF"
      },
      "execution_count": null,
      "outputs": []
    },
    {
      "cell_type": "markdown",
      "source": [
        "Next, we integrate the LLM prompt with the structured output to create a chain using LangChain Expression Language (LCEL) syntax and encapsulate it within a disambiguate function."
      ],
      "metadata": {
        "id": "QWFkbPsthcTY"
      }
    },
    {
      "cell_type": "code",
      "source": [
        "# extraction_prompt와 extraction_llm을 연결하여 처리 체인 생성\n",
        "extraction_chain = extraction_prompt | extraction_llm\n",
        "\n",
        "# 중복 엔티티를 병합하는 함수, 최대 3번 재시도\n",
        "@retry(tries=3, delay=2)\n",
        "def entity_resolution(entities: List[str]) -> Optional[List[str]]:\n",
        "    # 엔티티 목록을 처리하여 병합된 결과 반환\n",
        "    return [\n",
        "        el.entities\n",
        "        for el in extraction_chain.invoke({\"entities\": entities}).merge_entities\n",
        "    ]"
      ],
      "metadata": {
        "id": "rRyqLAHShguX"
      },
      "execution_count": null,
      "outputs": []
    },
    {
      "cell_type": "code",
      "source": [
        "# 'Star Ocean The Second Story R'와 'Star Ocean: The Second Story R'이라는 두 개의 엔티티를 중복 처리하기 위해 entity_resolution 함수를 호출\n",
        "entity_resolution(['Star Ocean The Second Story R', 'Star Ocean: The Second Story R'])"
      ],
      "metadata": {
        "id": "cPMwVQjIJQAg"
      },
      "execution_count": null,
      "outputs": []
    },
    {
      "cell_type": "code",
      "source": [
        "# 날짜 목록을 가진 딕셔너리를 입력으로 사용하여 entity_resolution 함수를 호출\n",
        "# 입력된 날짜들은 'entities'라는 키에 연결된 리스트로 제공됨\n",
        "entity_resolution({\"entities\": ['December 16, 2023',\n",
        "   'December 2, 2023',\n",
        "   'December 23, 2023',\n",
        "   'December 26, 2023',\n",
        "   'December 30, 2023',\n",
        "   'December 5, 2023',\n",
        "   'December 9, 2023']})"
      ],
      "metadata": {
        "id": "u3gNrAoUJdKA"
      },
      "execution_count": null,
      "outputs": []
    },
    {
      "cell_type": "markdown",
      "source": [
        "We need to run all potential candidate nodes through the entity_resolution function to decide whether they should be merged. To speed up the process, we will again parallelize the LLM calls:"
      ],
      "metadata": {
        "id": "jL0WhRpChpDP"
      }
    },
    {
      "cell_type": "code",
      "source": [
        "merged_entities = []  # 병합된 엔티티를 저장할 리스트 초기화\n",
        "\n",
        "# 최대 MAX_WORKERS 수의 스레드를 사용하여 스레드 풀 실행\n",
        "with ThreadPoolExecutor(max_workers=MAX_WORKERS) as executor:\n",
        "    # 모든 작업을 제출하고 Future 객체들의 리스트 생성\n",
        "    futures = [\n",
        "        executor.submit(entity_resolution, el['combinedResult'])  # entity_resolution 함수를 비동기적으로 실행\n",
        "        for el in potential_duplicate_candidates  # potential_duplicate_candidates 리스트의 각 항목에 대해 실행\n",
        "    ]\n",
        "\n",
        "    # 제출된 작업들이 완료될 때까지 처리하고 진행 상황을 tqdm으로 시각화\n",
        "    for future in tqdm(\n",
        "        as_completed(futures), total=len(futures), desc=\"Processing documents\"\n",
        "    ):\n",
        "        to_merge = future.result()  # 각 작업의 결과를 가져옴\n",
        "        if to_merge:  # 결과가 있는 경우 (병합할 엔티티가 존재할 경우)\n",
        "            merged_entities.extend(to_merge)  # 결과를 merged_entities 리스트에 추가"
      ],
      "metadata": {
        "id": "ofXSUcm8KSrI",
        "outputId": "74c0987c-0332-46c6-f8c4-6ca425349c41",
        "colab": {
          "base_uri": "https://localhost:8080/"
        }
      },
      "execution_count": null,
      "outputs": [
        {
          "output_type": "stream",
          "name": "stderr",
          "text": [
            "Processing documents:  40%|███▉      | 198/500 [00:16<00:25, 11.83it/s]WARNING:retry.api:'NoneType' object is not iterable, retrying in 2 seconds...\n",
            "Processing documents:  88%|████████▊ | 442/500 [00:34<00:03, 16.84it/s]WARNING:retry.api:'NoneType' object is not iterable, retrying in 2 seconds...\n",
            "Processing documents:  89%|████████▉ | 446/500 [00:34<00:04, 13.29it/s]WARNING:retry.api:'NoneType' object is not iterable, retrying in 2 seconds...\n",
            "Processing documents:  94%|█████████▍| 472/500 [00:36<00:02, 13.79it/s]WARNING:retry.api:'NoneType' object is not iterable, retrying in 2 seconds...\n",
            "Processing documents:  96%|█████████▌| 480/500 [00:37<00:01, 14.02it/s]WARNING:retry.api:'NoneType' object is not iterable, retrying in 2 seconds...\n",
            "Processing documents: 100%|██████████| 500/500 [00:39<00:00, 12.55it/s]\n"
          ]
        }
      ]
    },
    {
      "cell_type": "code",
      "source": [
        "merged_entities[:10]  # 병합된 엔티티 리스트에서 처음 10개의 항목을 출력"
      ],
      "metadata": {
        "id": "OmuqZmrGLmSp",
        "outputId": "382783c2-7fe0-4f69-e09c-1f4fd14a1c5a",
        "colab": {
          "base_uri": "https://localhost:8080/"
        }
      },
      "execution_count": null,
      "outputs": [
        {
          "output_type": "execute_result",
          "data": {
            "text/plain": [
              "[['Telcos', 'Telecoms'],\n",
              " ['Bank Of America', 'Bank_Of_America'],\n",
              " ['Sinn Fein', 'Sinn Féin'],\n",
              " ['John Brady', 'John Grady'],\n",
              " ['Unreal Engine', 'Unreal_Engine'],\n",
              " ['Tamil Nadu', 'Tamil_Nadu'],\n",
              " ['Asia Pacific', 'Asia-Pacific', 'Asia_Pacific'],\n",
              " ['Star Ocean First Departure R', 'Star Ocean: First Departure R'],\n",
              " ['New York Jets', 'New York Mets'],\n",
              " ['Citigroup Inc', 'Citigroup Inc.']]"
            ]
          },
          "metadata": {},
          "execution_count": 53
        }
      ]
    },
    {
      "cell_type": "markdown",
      "source": [
        "The final step of entity resolution involves taking the results from the entity_resolution LLM and writing them back to the database by merging the specified nodes:\n",
        "\n"
      ],
      "metadata": {
        "id": "peZElkVJhuaP"
      }
    },
    {
      "cell_type": "code",
      "source": [
        "# Neo4j 그래프 데이터베이스에서 쿼리를 실행하여 병합된 엔티티들을 처리\n",
        "\n",
        "graph.query(\"\"\"\n",
        "UNWIND $data AS candidates  # 병합할 엔티티 리스트를 반복 처리\n",
        "CALL {\n",
        "  WITH candidates\n",
        "  MATCH (e:__Entity__) WHERE e.id IN candidates  # candidates에 포함된 ID를 가진 엔티티 노드 찾기\n",
        "  RETURN collect(e) AS nodes  # 일치하는 노드를 nodes 리스트로 수집\n",
        "}\n",
        "CALL apoc.refactor.mergeNodes(nodes, {properties: {\n",
        "    `.*`: 'discard'  # 모든 속성에서 충돌 발생 시 'discard' 전략을 사용하여 노드 병합\n",
        "}})\n",
        "YIELD node  # 병합된 노드를 반환\n",
        "RETURN count(*)  # 병합된 노드의 개수를 반환\n",
        "\"\"\", params={\"data\": merged_entities})  # merged_entities 리스트를 쿼리에 전달"
      ],
      "metadata": {
        "id": "e8Mg310yMLhZ",
        "outputId": "f1ca21a8-874d-4f5c-b1bd-d5db5b8bf26a",
        "colab": {
          "base_uri": "https://localhost:8080/"
        }
      },
      "execution_count": null,
      "outputs": [
        {
          "output_type": "execute_result",
          "data": {
            "text/plain": [
              "[{'count(*)': 340}]"
            ]
          },
          "metadata": {},
          "execution_count": 54
        }
      ]
    },
    {
      "cell_type": "code",
      "source": [
        "G.drop()  # 네트워크 그래프 G를 삭제하거나 제거하는 명령"
      ],
      "metadata": {
        "colab": {
          "base_uri": "https://localhost:8080/"
        },
        "id": "XgGHDn-Wi1BH",
        "outputId": "3ae9a773-4f3d-491f-9743-28b2b7916457"
      },
      "execution_count": null,
      "outputs": [
        {
          "output_type": "stream",
          "name": "stderr",
          "text": [
            "WARNING:neo4j.notifications:Received notification from DBMS server: {severity: WARNING} {code: Neo.ClientNotification.Statement.FeatureDeprecationWarning} {category: DEPRECATION} {title: This feature is deprecated and will be removed in future versions.} {description: The query used a deprecated field from a procedure. ('schema' returned by 'gds.graph.drop' is deprecated.)} {position: line: 1, column: 1, offset: 0} for query: 'CALL gds.graph.drop($graph_name, $failIfMissing)'\n"
          ]
        },
        {
          "output_type": "execute_result",
          "data": {
            "text/plain": [
              "graphName                                                         entities\n",
              "database                                                             neo4j\n",
              "databaseLocation                                                     local\n",
              "memoryUsage                                                               \n",
              "sizeInBytes                                                             -1\n",
              "nodeCount                                                            12994\n",
              "relationshipCount                                                    46531\n",
              "configuration            {'relationshipProjection': {'__ALL__': {'aggre...\n",
              "density                                                           0.000276\n",
              "creationTime                           2024-07-08T13:38:36.662074305+00:00\n",
              "modificationTime                       2024-07-08T13:40:44.635813484+00:00\n",
              "schema                   {'graphProperties': {}, 'nodes': {'__Entity__'...\n",
              "schemaWithOrientation    {'graphProperties': {}, 'nodes': {'__Entity__'...\n",
              "Name: 0, dtype: object"
            ]
          },
          "metadata": {},
          "execution_count": 55
        }
      ]
    },
    {
      "cell_type": "markdown",
      "source": [
        "This entity resolution is not perfect, but it gives us a starting point upon which we can improve. Additionally, we can improve the logic for determining which entities should be retained.\n",
        "\n",
        "### Element Summarization\n",
        "In the next step, the authors perform an element summarization step. Essentially, every node and relationship gets passed through an entity summarization prompt. The authors note the novelty and interest of their approach:\n",
        "\n",
        "“Overall, our use of rich descriptive text for homogeneous nodes in a potentially noisy graph structure is aligned with both the capabilities of LLMs and the needs of global, query-focused summarization. These qualities also differentiate our graph index from typical knowledge graphs, which rely on concise and consistent knowledge triples (subject, predicate, object) for downstream reasoning tasks.”\n",
        "\n",
        "The idea is exciting. We still extract subject and object IDs or names from text, which allows us to link relationships to correct entities, even when entities appear across multiple text chunks. However, the relationships aren’t reduced to a single type. Instead, the relationship type is actually a freeform text that allows us to retain richer and more nuanced information.\n",
        "\n",
        "Additionally, the entity information is summarized using an LLM, allowing us to embed and index this information and entities more efficiently for more accurate retrieval.\n",
        "\n",
        "One could argue that this richer and more nuanced information could also be retained by adding additional, possibly arbitrary, node and relationship properties. One issue with arbitrary node and relationship properties is that it could be hard to extract the information consistently because the LLM might use different property names or focus on various details on every execution.\n",
        "\n",
        "Some of these problems could be solved using predefined property names with additional type and description information. In that case, you would need a subject-matter expert to help define those properties, leaving little room for an LLM to extract any vital information outside the predefined descriptions.\n",
        "\n",
        "It’s an exciting approach to represent richer information in a knowledge graph.\n",
        "\n",
        "One potential issue with the element summarization step is that it does not scale well since it requires an LLM call for every entity and relationship in the graph. Our graph is relatively tiny with 13,000 nodes and 16,000 relationships. Even for such a small graph, we would require 29,000 LLM calls, and each call would use a couple hundred tokens, making it quite expensive and time-intensive. Therefore, we will avoid this step here. We can still use the description properties extracted during the initial text processing.\n",
        "\n",
        "### Constructing and Summarizing Communities\n",
        "The final step in the graph construction and indexing process involves identifying communities within the graph. In this context, a community is a group of nodes that are more densely connected to each other than to the rest of the graph, indicating a higher level of interaction or similarity. The following visualization shows an example of community detection results.\n",
        "\n",
        "![title](https://miro.medium.com/v2/resize:fit:1400/format:webp/0*l2i3ctl8s6xdR6ul.png)\n",
        "\n",
        "Once these entity communities are identified with a clustering algorithm, an LLM generates a summary for each community, providing insights into their individual characteristics and relationships.\n",
        "\n",
        "Again, we use the Graph Data Science library. We start by projecting an in-memory graph. To follow the original article precisely, we will project the graph of entities as an undirected weighted network, where the network represents the number of connections between two entities:"
      ],
      "metadata": {
        "id": "7Nwk7OgPjVPK"
      }
    },
    {
      "cell_type": "code",
      "source": [
        "# 그래프 데이터 사이언스 라이브러리(gds)를 사용하여 그래프를 프로젝션하고 결과를 저장\n",
        "\n",
        "G, result = gds.graph.project(\n",
        "    \"communities\",  # 생성할 그래프의 이름\n",
        "    \"__Entity__\",  # 노드 프로젝션: \"__Entity__\" 레이블을 가진 노드를 포함\n",
        "    {\n",
        "        \"_ALL_\": {  # 모든 유형의 관계를 포함하는 관계 프로젝션\n",
        "            \"type\": \"*\",  # 관계 유형에 상관없이 모든 관계를 포함\n",
        "            \"orientation\": \"UNDIRECTED\",  # 관계 방향을 무시하고 무방향 그래프로 처리\n",
        "            \"properties\": {\n",
        "                \"weight\": {  # 관계의 속성으로 'weight'를 포함\n",
        "                    \"property\": \"*\",  # 모든 속성의 값을 포함\n",
        "                    \"aggregation\": \"COUNT\"  # 속성 값의 개수를 카운트하여 weight를 계산\n",
        "                }\n",
        "            },\n",
        "        }\n",
        "    },\n",
        ")"
      ],
      "metadata": {
        "id": "9VCZpBBMjGQq"
      },
      "execution_count": null,
      "outputs": []
    },
    {
      "cell_type": "markdown",
      "source": [
        "The authors employed the Leiden algorithm, a hierarchical clustering method, to identify communities within the graph. One advantage of using a hierarchical community detection algorithm is the ability to examine communities at multiple levels of granularity. The authors suggest summarizing all communities at each level, providing a comprehensive understanding of the graph’s structure.\n",
        "\n",
        "First, we will use the Weakly Connected Components (WCC) algorithm to assess the connectivity of our graph. This algorithm identifies isolated sections within the graph, meaning it detects subsets of nodes or components that are connected to each other but not to the rest of the graph. These components help us understand the fragmentation within the network and identify groups of nodes that are independent from others. WCC is vital for analyzing the overall structure and connectivity of the graph."
      ],
      "metadata": {
        "id": "-tuPpCJ3iAZZ"
      }
    },
    {
      "cell_type": "code",
      "source": [
        "wcc = gds.wcc.stats(G)  # 그래프에서 약하게 연결된 컴포넌트(Weakly Connected Components, WCC) 분석을 수행\n",
        "print(f\"Component count: {wcc['componentCount']}\")  # 컴포넌트의 총 개수를 출력\n",
        "print(f\"Component distribution: {wcc['componentDistribution']}\")  # 컴포넌트 크기의 분포를 출력"
      ],
      "metadata": {
        "colab": {
          "base_uri": "https://localhost:8080/"
        },
        "id": "Hs-nCOuWuW6M",
        "outputId": "2b89168c-e0de-4d43-9bae-0defb66a6177"
      },
      "execution_count": null,
      "outputs": [
        {
          "output_type": "stream",
          "name": "stdout",
          "text": [
            "Component count: 1119\n",
            "Component distribution: {'min': 1, 'p5': 1, 'max': 9109, 'p999': 43, 'p99': 19, 'p1': 1, 'p10': 1, 'p90': 7, 'p50': 2, 'p25': 1, 'p75': 4, 'p95': 10, 'mean': 11.302055406613047}\n"
          ]
        }
      ]
    },
    {
      "cell_type": "markdown",
      "source": [
        "The WCC algorithm results identified 1,119 distinct components. Notably, the largest component comprises 9,109 nodes, common in real-world networks where a single super component coexists with numerous smaller isolated components. The smallest component has one node, and the average component size is about 11.3 nodes.\n",
        "\n",
        "Next, we will run the Leiden algorithm, which is also available in the GDS library, and enable the includeIntermediateCommunities parameter to return and store communities at all levels. We have also included a relationshipWeightProperty parameter to run the weighted variant of the Leiden algorithm. Using the write mode of the algorithm stores the results as a node property."
      ],
      "metadata": {
        "id": "ZbQkCrH8iCPY"
      }
    },
    {
      "cell_type": "code",
      "source": [
        "# 그래프 G에 대해 Leiden 알고리즘을 실행하여 커뮤니티 탐지를 수행하고 결과를 노드 속성으로 기록\n",
        "gds.leiden.write(\n",
        "    G,  # 그래프 G에서 커뮤니티 탐지를 수행\n",
        "    writeProperty=\"communities\",  # 탐지된 커뮤니티를 저장할 노드 속성 이름\n",
        "    includeIntermediateCommunities=True,  # 중간 커뮤니티 결과를 포함할지 여부를 지정\n",
        "    relationshipWeightProperty=\"weight\",  # 관계의 가중치로 사용할 속성 이름\n",
        ")"
      ],
      "metadata": {
        "colab": {
          "base_uri": "https://localhost:8080/"
        },
        "id": "O9aLrUsykFa0",
        "outputId": "3163d266-eb0a-4280-c0fe-3541b085fe79"
      },
      "execution_count": null,
      "outputs": [
        {
          "output_type": "execute_result",
          "data": {
            "text/plain": [
              "writeMillis                                                            398\n",
              "nodePropertiesWritten                                                12647\n",
              "ranLevels                                                                5\n",
              "didConverge                                                           True\n",
              "nodeCount                                                            12647\n",
              "communityCount                                                        1188\n",
              "communityDistribution    {'min': 1, 'p5': 1, 'max': 380, 'p999': 308, '...\n",
              "modularity                                                        0.921649\n",
              "modularities             [0.7200499759239788, 0.8816275351067698, 0.916...\n",
              "postProcessingMillis                                                    22\n",
              "preProcessingMillis                                                      0\n",
              "computeMillis                                                          424\n",
              "configuration            {'writeProperty': 'communities', 'theta': 0.01...\n",
              "Name: 0, dtype: object"
            ]
          },
          "metadata": {},
          "execution_count": 61
        }
      ]
    },
    {
      "cell_type": "markdown",
      "source": [
        "The algorithm identified five levels of communities, with the highest (least granular level where communities are largest) having 1,188 communities (as opposed to 1,119 components). Building on this, we will create a distinct node for each community and represent their hierarchical structure as an interconnected graph. Later, we will also store community summaries and other attributes as node properties."
      ],
      "metadata": {
        "id": "0a5AxvzLiHHa"
      }
    },
    {
      "cell_type": "code",
      "source": [
        "# 그래프 데이터베이스에 제약 조건을 생성하는 쿼리를 실행\n",
        "graph.query(\"CREATE CONSTRAINT IF NOT EXISTS FOR (c:__Community__) REQUIRE c.id IS UNIQUE;\")"
      ],
      "metadata": {
        "id": "-qIC9PZcGujw"
      },
      "execution_count": null,
      "outputs": []
    },
    {
      "cell_type": "code",
      "source": [
        "graph.query(\"\"\"\n",
        "MATCH (e:`__Entity__`)  # `__Entity__` 레이블을 가진 모든 노드를 매칭\n",
        "UNWIND range(0, size(e.communities) - 1 , 1) AS index  # 각 노드의 `communities` 속성을 인덱스로 풀어냄\n",
        "CALL {\n",
        "  WITH e, index\n",
        "  WITH e, index\n",
        "  WHERE index = 0  # 첫 번째 커뮤니티일 때만 실행\n",
        "  MERGE (c:`__Community__` {id: toString(index) + '-' + toString(e.communities[index])})  # 커뮤니티 노드가 존재하지 않으면 생성\n",
        "  ON CREATE SET c.level = index  # 새로 생성된 커뮤니티 노드에 level 설정\n",
        "  MERGE (e)-[:IN_COMMUNITY]->(c)  # 엔티티와 커뮤니티 노드 사이의 관계를 생성\n",
        "  RETURN count(*) AS count_0  # 처리된 레코드 수 반환\n",
        "}\n",
        "CALL {\n",
        "  WITH e, index\n",
        "  WITH e, index\n",
        "  WHERE index > 0  # 첫 번째가 아닌 커뮤니티에 대해서만 실행\n",
        "  MERGE (current:`__Community__` {id: toString(index) + '-' + toString(e.communities[index])})  # 현재 커뮤니티 노드가 존재하지 않으면 생성\n",
        "  ON CREATE SET current.level = index  # 새로 생성된 현재 커뮤니티 노드에 level 설정\n",
        "  MERGE (previous:`__Community__` {id: toString(index - 1) + '-' + toString(e.communities[index - 1])})  # 이전 커뮤니티 노드가 존재하지 않으면 생성\n",
        "  ON CREATE SET previous.level = index - 1  # 새로 생성된 이전 커뮤니티 노드에 level 설정\n",
        "  MERGE (previous)-[:IN_COMMUNITY]->(current)  # 이전 커뮤니티와 현재 커뮤니티 노드 사이의 관계를 생성\n",
        "  RETURN count(*) AS count_1  # 처리된 레코드 수 반환\n",
        "}\n",
        "RETURN count(*)\n",
        "\"\"\")"
      ],
      "metadata": {
        "id": "EKRaBUjpwNNs",
        "outputId": "411bac03-6a28-4f65-f775-18b185834e06",
        "colab": {
          "base_uri": "https://localhost:8080/"
        }
      },
      "execution_count": null,
      "outputs": [
        {
          "output_type": "execute_result",
          "data": {
            "text/plain": [
              "[{'count(*)': 63235}]"
            ]
          },
          "metadata": {},
          "execution_count": 64
        }
      ]
    },
    {
      "cell_type": "markdown",
      "source": [
        "The authors also introduce a community rank, indicating the number of distinct text chunks in which the entities within the community appear:"
      ],
      "metadata": {
        "id": "hoIno_V3iOOZ"
      }
    },
    {
      "cell_type": "code",
      "source": [
        "graph.query(\"\"\"\n",
        "# __Community__ 노드와 해당 커뮤니티에 속한 __Entity__ 노드, 그리고 이 엔티티를 언급하는 Document 노드를 매칭\n",
        "# :IN_COMMUNITY*는 __Community__와 __Entity__ 노드 사이에 여러 단계의 IN_COMMUNITY 관계를 포함할 수 있음을 나타냄\n",
        "MATCH (c:__Community__)<-[:IN_COMMUNITY*]-(:__Entity__)<-[:MENTIONS]-(d:Document)\n",
        "WITH c, count(distinct d) AS rank  # 커뮤니티 c에 연결된 고유한 Document 노드의 수를 rank로 계산\n",
        "SET c.community_rank = rank;  # 각 커뮤니티 노드에 계산된 rank 값을 community_rank 속성으로 설정\n",
        "\"\"\")"
      ],
      "metadata": {
        "colab": {
          "base_uri": "https://localhost:8080/"
        },
        "id": "QA4CZxcyIkd8",
        "outputId": "a61e223e-79ad-430d-9dbc-4a30b180facd"
      },
      "execution_count": null,
      "outputs": [
        {
          "output_type": "execute_result",
          "data": {
            "text/plain": [
              "[]"
            ]
          },
          "metadata": {},
          "execution_count": 34
        }
      ]
    },
    {
      "cell_type": "markdown",
      "source": [
        "Now let’s examine a sample hierarchical structure with many intermediate communities merging at higher levels. The communities are non-overlapping, meaning that each entity belongs to precisely a single community at each level.\n",
        "Let’s examine the number of communities and their sizes and different levels in more detail:"
      ],
      "metadata": {
        "id": "u6V00ZDKiQ-w"
      }
    },
    {
      "cell_type": "code",
      "source": [
        "# 그래프 데이터베이스에서 커뮤니티와 그에 속한 엔티티 수를 조회\n",
        "community_size = graph.query(\n",
        "    \"\"\"\n",
        "    MATCH (c:__Community__)<-[:IN_COMMUNITY*]-(e:__Entity__)\n",
        "    WITH c, count(distinct e) AS entities  # 각 커뮤니티에 속한 고유한 엔티티 수를 계산\n",
        "    RETURN split(c.id, '-')[0] AS level, entities  # 커뮤니티 ID에서 레벨(level)과 엔티티 수를 반환\n",
        "    \"\"\"\n",
        ")\n",
        "\n",
        "# 조회된 데이터를 pandas DataFrame으로 변환\n",
        "community_size_df = pd.DataFrame.from_records(community_size)\n",
        "\n",
        "percentiles_data = []  # 백분위수 데이터를 저장할 리스트\n",
        "# 각 레벨별로 커뮤니티의 엔티티 수에 대한 백분위수를 계산\n",
        "for level in community_size_df[\"level\"].unique():\n",
        "    subset = community_size_df[community_size_df[\"level\"] == level][\"entities\"]  # 해당 레벨의 엔티티 수 추출\n",
        "    num_communities = len(subset)  # 해당 레벨의 커뮤니티 수\n",
        "    percentiles = np.percentile(subset, [25, 50, 75, 90, 99])  # 백분위수 계산\n",
        "    percentiles_data.append(\n",
        "        [\n",
        "            level,  # 레벨\n",
        "            num_communities,  # 커뮤니티 수\n",
        "            percentiles[0],  # 25번째 백분위수\n",
        "            percentiles[1],  # 50번째 백분위수 (중앙값)\n",
        "            percentiles[2],  # 75번째 백분위수\n",
        "            percentiles[3],  # 90번째 백분위수\n",
        "            percentiles[4],  # 99번째 백분위수\n",
        "            max(subset)  # 최대값\n",
        "        ]\n",
        "    )\n",
        "\n",
        "# 백분위수 데이터를 포함한 DataFrame 생성\n",
        "percentiles_df = pd.DataFrame(\n",
        "    percentiles_data,\n",
        "    columns=[\n",
        "        \"Level\",  # 레벨\n",
        "        \"Number of communities\",  # 커뮤니티 수\n",
        "        \"25th Percentile\",  # 25번째 백분위수\n",
        "        \"50th Percentile\",  # 50번째 백분위수\n",
        "        \"75th Percentile\",  # 75번째 백분위수\n",
        "        \"90th Percentile\",  # 90번째 백분위수\n",
        "        \"99th Percentile\",  # 99번째 백분위수\n",
        "        \"Max\"  # 최대값\n",
        "    ],\n",
        ")\n",
        "\n",
        "# 생성된 DataFrame을 출력\n",
        "percentiles_df"
      ],
      "metadata": {
        "colab": {
          "base_uri": "https://localhost:8080/",
          "height": 206
        },
        "id": "sU2Eg54TLjAV",
        "outputId": "1d6a6ffd-8256-4aa6-b2f1-c275f1218621"
      },
      "execution_count": null,
      "outputs": [
        {
          "output_type": "execute_result",
          "data": {
            "text/plain": [
              "  Level  Number of communities  25th Percentile  50th Percentile  \\\n",
              "0     0                   3283              2.0              3.0   \n",
              "1     1                   1651              1.0              3.0   \n",
              "2     2                   1276              1.0              2.0   \n",
              "3     3                   1192              1.0              2.0   \n",
              "4     4                   1188              1.0              2.0   \n",
              "\n",
              "   75th Percentile  90th Percentile  99th Percentile  Max  \n",
              "0              4.0              7.0            21.00   63  \n",
              "1              9.0             17.0            65.50  330  \n",
              "2              6.0             21.5           135.00  426  \n",
              "3              5.0             12.0           214.99  545  \n",
              "4              5.0             11.0           225.78  545  "
            ],
            "text/html": [
              "\n",
              "  <div id=\"df-fdae6006-13f6-423e-9c44-d4142dd1f82a\" class=\"colab-df-container\">\n",
              "    <div>\n",
              "<style scoped>\n",
              "    .dataframe tbody tr th:only-of-type {\n",
              "        vertical-align: middle;\n",
              "    }\n",
              "\n",
              "    .dataframe tbody tr th {\n",
              "        vertical-align: top;\n",
              "    }\n",
              "\n",
              "    .dataframe thead th {\n",
              "        text-align: right;\n",
              "    }\n",
              "</style>\n",
              "<table border=\"1\" class=\"dataframe\">\n",
              "  <thead>\n",
              "    <tr style=\"text-align: right;\">\n",
              "      <th></th>\n",
              "      <th>Level</th>\n",
              "      <th>Number of communities</th>\n",
              "      <th>25th Percentile</th>\n",
              "      <th>50th Percentile</th>\n",
              "      <th>75th Percentile</th>\n",
              "      <th>90th Percentile</th>\n",
              "      <th>99th Percentile</th>\n",
              "      <th>Max</th>\n",
              "    </tr>\n",
              "  </thead>\n",
              "  <tbody>\n",
              "    <tr>\n",
              "      <th>0</th>\n",
              "      <td>0</td>\n",
              "      <td>3283</td>\n",
              "      <td>2.0</td>\n",
              "      <td>3.0</td>\n",
              "      <td>4.0</td>\n",
              "      <td>7.0</td>\n",
              "      <td>21.00</td>\n",
              "      <td>63</td>\n",
              "    </tr>\n",
              "    <tr>\n",
              "      <th>1</th>\n",
              "      <td>1</td>\n",
              "      <td>1651</td>\n",
              "      <td>1.0</td>\n",
              "      <td>3.0</td>\n",
              "      <td>9.0</td>\n",
              "      <td>17.0</td>\n",
              "      <td>65.50</td>\n",
              "      <td>330</td>\n",
              "    </tr>\n",
              "    <tr>\n",
              "      <th>2</th>\n",
              "      <td>2</td>\n",
              "      <td>1276</td>\n",
              "      <td>1.0</td>\n",
              "      <td>2.0</td>\n",
              "      <td>6.0</td>\n",
              "      <td>21.5</td>\n",
              "      <td>135.00</td>\n",
              "      <td>426</td>\n",
              "    </tr>\n",
              "    <tr>\n",
              "      <th>3</th>\n",
              "      <td>3</td>\n",
              "      <td>1192</td>\n",
              "      <td>1.0</td>\n",
              "      <td>2.0</td>\n",
              "      <td>5.0</td>\n",
              "      <td>12.0</td>\n",
              "      <td>214.99</td>\n",
              "      <td>545</td>\n",
              "    </tr>\n",
              "    <tr>\n",
              "      <th>4</th>\n",
              "      <td>4</td>\n",
              "      <td>1188</td>\n",
              "      <td>1.0</td>\n",
              "      <td>2.0</td>\n",
              "      <td>5.0</td>\n",
              "      <td>11.0</td>\n",
              "      <td>225.78</td>\n",
              "      <td>545</td>\n",
              "    </tr>\n",
              "  </tbody>\n",
              "</table>\n",
              "</div>\n",
              "    <div class=\"colab-df-buttons\">\n",
              "\n",
              "  <div class=\"colab-df-container\">\n",
              "    <button class=\"colab-df-convert\" onclick=\"convertToInteractive('df-fdae6006-13f6-423e-9c44-d4142dd1f82a')\"\n",
              "            title=\"Convert this dataframe to an interactive table.\"\n",
              "            style=\"display:none;\">\n",
              "\n",
              "  <svg xmlns=\"http://www.w3.org/2000/svg\" height=\"24px\" viewBox=\"0 -960 960 960\">\n",
              "    <path d=\"M120-120v-720h720v720H120Zm60-500h600v-160H180v160Zm220 220h160v-160H400v160Zm0 220h160v-160H400v160ZM180-400h160v-160H180v160Zm440 0h160v-160H620v160ZM180-180h160v-160H180v160Zm440 0h160v-160H620v160Z\"/>\n",
              "  </svg>\n",
              "    </button>\n",
              "\n",
              "  <style>\n",
              "    .colab-df-container {\n",
              "      display:flex;\n",
              "      gap: 12px;\n",
              "    }\n",
              "\n",
              "    .colab-df-convert {\n",
              "      background-color: #E8F0FE;\n",
              "      border: none;\n",
              "      border-radius: 50%;\n",
              "      cursor: pointer;\n",
              "      display: none;\n",
              "      fill: #1967D2;\n",
              "      height: 32px;\n",
              "      padding: 0 0 0 0;\n",
              "      width: 32px;\n",
              "    }\n",
              "\n",
              "    .colab-df-convert:hover {\n",
              "      background-color: #E2EBFA;\n",
              "      box-shadow: 0px 1px 2px rgba(60, 64, 67, 0.3), 0px 1px 3px 1px rgba(60, 64, 67, 0.15);\n",
              "      fill: #174EA6;\n",
              "    }\n",
              "\n",
              "    .colab-df-buttons div {\n",
              "      margin-bottom: 4px;\n",
              "    }\n",
              "\n",
              "    [theme=dark] .colab-df-convert {\n",
              "      background-color: #3B4455;\n",
              "      fill: #D2E3FC;\n",
              "    }\n",
              "\n",
              "    [theme=dark] .colab-df-convert:hover {\n",
              "      background-color: #434B5C;\n",
              "      box-shadow: 0px 1px 3px 1px rgba(0, 0, 0, 0.15);\n",
              "      filter: drop-shadow(0px 1px 2px rgba(0, 0, 0, 0.3));\n",
              "      fill: #FFFFFF;\n",
              "    }\n",
              "  </style>\n",
              "\n",
              "    <script>\n",
              "      const buttonEl =\n",
              "        document.querySelector('#df-fdae6006-13f6-423e-9c44-d4142dd1f82a button.colab-df-convert');\n",
              "      buttonEl.style.display =\n",
              "        google.colab.kernel.accessAllowed ? 'block' : 'none';\n",
              "\n",
              "      async function convertToInteractive(key) {\n",
              "        const element = document.querySelector('#df-fdae6006-13f6-423e-9c44-d4142dd1f82a');\n",
              "        const dataTable =\n",
              "          await google.colab.kernel.invokeFunction('convertToInteractive',\n",
              "                                                    [key], {});\n",
              "        if (!dataTable) return;\n",
              "\n",
              "        const docLinkHtml = 'Like what you see? Visit the ' +\n",
              "          '<a target=\"_blank\" href=https://colab.research.google.com/notebooks/data_table.ipynb>data table notebook</a>'\n",
              "          + ' to learn more about interactive tables.';\n",
              "        element.innerHTML = '';\n",
              "        dataTable['output_type'] = 'display_data';\n",
              "        await google.colab.output.renderOutput(dataTable, element);\n",
              "        const docLink = document.createElement('div');\n",
              "        docLink.innerHTML = docLinkHtml;\n",
              "        element.appendChild(docLink);\n",
              "      }\n",
              "    </script>\n",
              "  </div>\n",
              "\n",
              "\n",
              "<div id=\"df-259ee9c7-3323-4c05-b1bb-7b03327e0434\">\n",
              "  <button class=\"colab-df-quickchart\" onclick=\"quickchart('df-259ee9c7-3323-4c05-b1bb-7b03327e0434')\"\n",
              "            title=\"Suggest charts\"\n",
              "            style=\"display:none;\">\n",
              "\n",
              "<svg xmlns=\"http://www.w3.org/2000/svg\" height=\"24px\"viewBox=\"0 0 24 24\"\n",
              "     width=\"24px\">\n",
              "    <g>\n",
              "        <path d=\"M19 3H5c-1.1 0-2 .9-2 2v14c0 1.1.9 2 2 2h14c1.1 0 2-.9 2-2V5c0-1.1-.9-2-2-2zM9 17H7v-7h2v7zm4 0h-2V7h2v10zm4 0h-2v-4h2v4z\"/>\n",
              "    </g>\n",
              "</svg>\n",
              "  </button>\n",
              "\n",
              "<style>\n",
              "  .colab-df-quickchart {\n",
              "      --bg-color: #E8F0FE;\n",
              "      --fill-color: #1967D2;\n",
              "      --hover-bg-color: #E2EBFA;\n",
              "      --hover-fill-color: #174EA6;\n",
              "      --disabled-fill-color: #AAA;\n",
              "      --disabled-bg-color: #DDD;\n",
              "  }\n",
              "\n",
              "  [theme=dark] .colab-df-quickchart {\n",
              "      --bg-color: #3B4455;\n",
              "      --fill-color: #D2E3FC;\n",
              "      --hover-bg-color: #434B5C;\n",
              "      --hover-fill-color: #FFFFFF;\n",
              "      --disabled-bg-color: #3B4455;\n",
              "      --disabled-fill-color: #666;\n",
              "  }\n",
              "\n",
              "  .colab-df-quickchart {\n",
              "    background-color: var(--bg-color);\n",
              "    border: none;\n",
              "    border-radius: 50%;\n",
              "    cursor: pointer;\n",
              "    display: none;\n",
              "    fill: var(--fill-color);\n",
              "    height: 32px;\n",
              "    padding: 0;\n",
              "    width: 32px;\n",
              "  }\n",
              "\n",
              "  .colab-df-quickchart:hover {\n",
              "    background-color: var(--hover-bg-color);\n",
              "    box-shadow: 0 1px 2px rgba(60, 64, 67, 0.3), 0 1px 3px 1px rgba(60, 64, 67, 0.15);\n",
              "    fill: var(--button-hover-fill-color);\n",
              "  }\n",
              "\n",
              "  .colab-df-quickchart-complete:disabled,\n",
              "  .colab-df-quickchart-complete:disabled:hover {\n",
              "    background-color: var(--disabled-bg-color);\n",
              "    fill: var(--disabled-fill-color);\n",
              "    box-shadow: none;\n",
              "  }\n",
              "\n",
              "  .colab-df-spinner {\n",
              "    border: 2px solid var(--fill-color);\n",
              "    border-color: transparent;\n",
              "    border-bottom-color: var(--fill-color);\n",
              "    animation:\n",
              "      spin 1s steps(1) infinite;\n",
              "  }\n",
              "\n",
              "  @keyframes spin {\n",
              "    0% {\n",
              "      border-color: transparent;\n",
              "      border-bottom-color: var(--fill-color);\n",
              "      border-left-color: var(--fill-color);\n",
              "    }\n",
              "    20% {\n",
              "      border-color: transparent;\n",
              "      border-left-color: var(--fill-color);\n",
              "      border-top-color: var(--fill-color);\n",
              "    }\n",
              "    30% {\n",
              "      border-color: transparent;\n",
              "      border-left-color: var(--fill-color);\n",
              "      border-top-color: var(--fill-color);\n",
              "      border-right-color: var(--fill-color);\n",
              "    }\n",
              "    40% {\n",
              "      border-color: transparent;\n",
              "      border-right-color: var(--fill-color);\n",
              "      border-top-color: var(--fill-color);\n",
              "    }\n",
              "    60% {\n",
              "      border-color: transparent;\n",
              "      border-right-color: var(--fill-color);\n",
              "    }\n",
              "    80% {\n",
              "      border-color: transparent;\n",
              "      border-right-color: var(--fill-color);\n",
              "      border-bottom-color: var(--fill-color);\n",
              "    }\n",
              "    90% {\n",
              "      border-color: transparent;\n",
              "      border-bottom-color: var(--fill-color);\n",
              "    }\n",
              "  }\n",
              "</style>\n",
              "\n",
              "  <script>\n",
              "    async function quickchart(key) {\n",
              "      const quickchartButtonEl =\n",
              "        document.querySelector('#' + key + ' button');\n",
              "      quickchartButtonEl.disabled = true;  // To prevent multiple clicks.\n",
              "      quickchartButtonEl.classList.add('colab-df-spinner');\n",
              "      try {\n",
              "        const charts = await google.colab.kernel.invokeFunction(\n",
              "            'suggestCharts', [key], {});\n",
              "      } catch (error) {\n",
              "        console.error('Error during call to suggestCharts:', error);\n",
              "      }\n",
              "      quickchartButtonEl.classList.remove('colab-df-spinner');\n",
              "      quickchartButtonEl.classList.add('colab-df-quickchart-complete');\n",
              "    }\n",
              "    (() => {\n",
              "      let quickchartButtonEl =\n",
              "        document.querySelector('#df-259ee9c7-3323-4c05-b1bb-7b03327e0434 button');\n",
              "      quickchartButtonEl.style.display =\n",
              "        google.colab.kernel.accessAllowed ? 'block' : 'none';\n",
              "    })();\n",
              "  </script>\n",
              "</div>\n",
              "\n",
              "  <div id=\"id_50d38427-f3d8-421f-a8da-afea27757851\">\n",
              "    <style>\n",
              "      .colab-df-generate {\n",
              "        background-color: #E8F0FE;\n",
              "        border: none;\n",
              "        border-radius: 50%;\n",
              "        cursor: pointer;\n",
              "        display: none;\n",
              "        fill: #1967D2;\n",
              "        height: 32px;\n",
              "        padding: 0 0 0 0;\n",
              "        width: 32px;\n",
              "      }\n",
              "\n",
              "      .colab-df-generate:hover {\n",
              "        background-color: #E2EBFA;\n",
              "        box-shadow: 0px 1px 2px rgba(60, 64, 67, 0.3), 0px 1px 3px 1px rgba(60, 64, 67, 0.15);\n",
              "        fill: #174EA6;\n",
              "      }\n",
              "\n",
              "      [theme=dark] .colab-df-generate {\n",
              "        background-color: #3B4455;\n",
              "        fill: #D2E3FC;\n",
              "      }\n",
              "\n",
              "      [theme=dark] .colab-df-generate:hover {\n",
              "        background-color: #434B5C;\n",
              "        box-shadow: 0px 1px 3px 1px rgba(0, 0, 0, 0.15);\n",
              "        filter: drop-shadow(0px 1px 2px rgba(0, 0, 0, 0.3));\n",
              "        fill: #FFFFFF;\n",
              "      }\n",
              "    </style>\n",
              "    <button class=\"colab-df-generate\" onclick=\"generateWithVariable('percentiles_df')\"\n",
              "            title=\"Generate code using this dataframe.\"\n",
              "            style=\"display:none;\">\n",
              "\n",
              "  <svg xmlns=\"http://www.w3.org/2000/svg\" height=\"24px\"viewBox=\"0 0 24 24\"\n",
              "       width=\"24px\">\n",
              "    <path d=\"M7,19H8.4L18.45,9,17,7.55,7,17.6ZM5,21V16.75L18.45,3.32a2,2,0,0,1,2.83,0l1.4,1.43a1.91,1.91,0,0,1,.58,1.4,1.91,1.91,0,0,1-.58,1.4L9.25,21ZM18.45,9,17,7.55Zm-12,3A5.31,5.31,0,0,0,4.9,8.1,5.31,5.31,0,0,0,1,6.5,5.31,5.31,0,0,0,4.9,4.9,5.31,5.31,0,0,0,6.5,1,5.31,5.31,0,0,0,8.1,4.9,5.31,5.31,0,0,0,12,6.5,5.46,5.46,0,0,0,6.5,12Z\"/>\n",
              "  </svg>\n",
              "    </button>\n",
              "    <script>\n",
              "      (() => {\n",
              "      const buttonEl =\n",
              "        document.querySelector('#id_50d38427-f3d8-421f-a8da-afea27757851 button.colab-df-generate');\n",
              "      buttonEl.style.display =\n",
              "        google.colab.kernel.accessAllowed ? 'block' : 'none';\n",
              "\n",
              "      buttonEl.onclick = () => {\n",
              "        google.colab.notebook.generateWithVariable('percentiles_df');\n",
              "      }\n",
              "      })();\n",
              "    </script>\n",
              "  </div>\n",
              "\n",
              "    </div>\n",
              "  </div>\n"
            ],
            "application/vnd.google.colaboratory.intrinsic+json": {
              "type": "dataframe",
              "variable_name": "percentiles_df",
              "summary": "{\n  \"name\": \"percentiles_df\",\n  \"rows\": 5,\n  \"fields\": [\n    {\n      \"column\": \"Level\",\n      \"properties\": {\n        \"dtype\": \"string\",\n        \"num_unique_values\": 5,\n        \"samples\": [\n          \"1\",\n          \"4\",\n          \"2\"\n        ],\n        \"semantic_type\": \"\",\n        \"description\": \"\"\n      }\n    },\n    {\n      \"column\": \"Number of communities\",\n      \"properties\": {\n        \"dtype\": \"number\",\n        \"std\": 895,\n        \"min\": 1188,\n        \"max\": 3283,\n        \"num_unique_values\": 5,\n        \"samples\": [\n          1651,\n          1188,\n          1276\n        ],\n        \"semantic_type\": \"\",\n        \"description\": \"\"\n      }\n    },\n    {\n      \"column\": \"25th Percentile\",\n      \"properties\": {\n        \"dtype\": \"number\",\n        \"std\": 0.44721359549995804,\n        \"min\": 1.0,\n        \"max\": 2.0,\n        \"num_unique_values\": 2,\n        \"samples\": [\n          1.0,\n          2.0\n        ],\n        \"semantic_type\": \"\",\n        \"description\": \"\"\n      }\n    },\n    {\n      \"column\": \"50th Percentile\",\n      \"properties\": {\n        \"dtype\": \"number\",\n        \"std\": 0.5477225575051661,\n        \"min\": 2.0,\n        \"max\": 3.0,\n        \"num_unique_values\": 2,\n        \"samples\": [\n          2.0,\n          3.0\n        ],\n        \"semantic_type\": \"\",\n        \"description\": \"\"\n      }\n    },\n    {\n      \"column\": \"75th Percentile\",\n      \"properties\": {\n        \"dtype\": \"number\",\n        \"std\": 1.9235384061671346,\n        \"min\": 4.0,\n        \"max\": 9.0,\n        \"num_unique_values\": 4,\n        \"samples\": [\n          9.0,\n          5.0\n        ],\n        \"semantic_type\": \"\",\n        \"description\": \"\"\n      }\n    },\n    {\n      \"column\": \"90th Percentile\",\n      \"properties\": {\n        \"dtype\": \"number\",\n        \"std\": 5.630275304103699,\n        \"min\": 7.0,\n        \"max\": 21.5,\n        \"num_unique_values\": 5,\n        \"samples\": [\n          17.0,\n          11.0\n        ],\n        \"semantic_type\": \"\",\n        \"description\": \"\"\n      }\n    },\n    {\n      \"column\": \"99th Percentile\",\n      \"properties\": {\n        \"dtype\": \"number\",\n        \"std\": 90.04616582620234,\n        \"min\": 21.0,\n        \"max\": 225.7799999999993,\n        \"num_unique_values\": 5,\n        \"samples\": [\n          65.5,\n          225.7799999999993\n        ],\n        \"semantic_type\": \"\",\n        \"description\": \"\"\n      }\n    },\n    {\n      \"column\": \"Max\",\n      \"properties\": {\n        \"dtype\": \"number\",\n        \"std\": 199,\n        \"min\": 63,\n        \"max\": 545,\n        \"num_unique_values\": 4,\n        \"samples\": [\n          330,\n          545\n        ],\n        \"semantic_type\": \"\",\n        \"description\": \"\"\n      }\n    }\n  ]\n}"
            }
          },
          "metadata": {},
          "execution_count": 75
        }
      ]
    },
    {
      "cell_type": "markdown",
      "source": [
        "In the original implementation, communities on every level were summarized. In our case, that would be 8,590 communities and, consequently, 8,590 LLM calls. I would argue that depending on the hierarchical community structure, not every level needs to be summarized. For example, the difference between the last and the next-to-last level is only four communities (1,192 vs. 1,188). Therefore, we would be creating a lot of redundant summaries. One solution is to create an implementation that can make a single summary for communities on different levels that don’t change; another one would be to collapse community hierarchies that don’t change.\n",
        "\n",
        "Also, I am unsure if we want to summarize communities with only one member, as they might not provide much value or information. Here, we will summarize communities on levels 0, 1, and 4. First, we need to retrieve their information from the database:"
      ],
      "metadata": {
        "id": "FLE47rf9iYIh"
      }
    },
    {
      "cell_type": "code",
      "source": [
        "# 그래프 데이터베이스에서 특정 레벨에 있는 커뮤니티와 그에 속한 엔티티 및 관계 정보를 조회\n",
        "community_info = graph.query(\"\"\"\n",
        "MATCH (c:`__Community__`)<-[:IN_COMMUNITY*]-(e:__Entity__)\n",
        "WHERE c.level IN [0,1,4]  # 커뮤니티의 레벨이 0, 1, 4인 경우만 선택\n",
        "WITH c, collect(e) AS nodes  # 해당 커뮤니티에 속한 엔티티들을 수집하여 nodes로 저장\n",
        "WHERE size(nodes) > 1  # 엔티티의 수가 1보다 큰 경우만 처리\n",
        "# APOC 라이브러리를 사용하여 서브그래프의 모든 노드와 관계를 탐색\n",
        "CALL apoc.path.subgraphAll(nodes[0], {\n",
        "\twhitelistNodes: nodes  # 노드 목록에 포함된 노드만 탐색\n",
        "})\n",
        "YIELD relationships  # 탐색된 관계들을 반환\n",
        "# 최종적으로 커뮤니티 ID, 노드 정보, 관계 정보를 반환\n",
        "RETURN c.id AS communityId,\n",
        "       [n in nodes | {id: n.id, description: n.description, type: [el in labels(n) WHERE el <> '__Entity__'][0]}] AS nodes,  # 각 노드의 ID, 설명, 엔티티 타입을 리스트로 반환\n",
        "       [r in relationships | {start: startNode(r).id, type: type(r), end: endNode(r).id, description: r.description}] AS rels  # 각 관계의 시작 노드, 타입, 종료 노드, 설명을 리스트로 반환\n",
        "\"\"\")"
      ],
      "metadata": {
        "id": "A4NuLhY0mm3B"
      },
      "execution_count": null,
      "outputs": []
    },
    {
      "cell_type": "code",
      "source": [
        "community_info[5] # community_info 리스트에서 6번째 요소(인덱스 5)에 해당하는 항목을 가져옴"
      ],
      "metadata": {
        "colab": {
          "base_uri": "https://localhost:8080/"
        },
        "id": "Ur4JkHkLe3_i",
        "outputId": "90445e3d-b3bc-4d54-d9b4-b96e8a568657"
      },
      "execution_count": null,
      "outputs": [
        {
          "output_type": "execute_result",
          "data": {
            "text/plain": [
              "{'communityId': '0-6014',\n",
              " 'nodes': [{'id': 'Darrell Hughes', 'description': None, 'type': 'Person'},\n",
              "  {'id': 'Chief Pilot', 'description': None, 'type': 'Person'},\n",
              "  {'id': 'The Financial Times', 'description': None, 'type': 'Organization'},\n",
              "  {'id': 'The Independent', 'description': None, 'type': 'Organization'},\n",
              "  {'id': 'The Bbc', 'description': None, 'type': 'Organization'},\n",
              "  {'id': 'Nine Junior Female Pilots', 'description': None, 'type': 'Person'},\n",
              "  {'id': 'Ryanair Dac', 'description': None, 'type': 'Organization'},\n",
              "  {'id': 'Irish Aviation Authority',\n",
              "   'description': None,\n",
              "   'type': 'Organization'},\n",
              "  {'id': 'Irish Airline Pilots’ Association',\n",
              "   'description': None,\n",
              "   'type': 'Organization'},\n",
              "  {'id': 'Aidan Murray', 'description': None, 'type': 'Person'}],\n",
              " 'rels': [{'start': 'Ryanair Dac',\n",
              "   'description': 'Informed of the change in chief pilot',\n",
              "   'type': 'INFORMED',\n",
              "   'end': 'Irish Aviation Authority'},\n",
              "  {'start': 'Ryanair Dac',\n",
              "   'description': 'Dismissed after internal investigation found unacceptable behaviour',\n",
              "   'type': 'DISMISSED',\n",
              "   'end': 'Aidan Murray'},\n",
              "  {'start': 'Ryanair Dac',\n",
              "   'description': 'Worked with the airline since the mid-1990s, appointed chief pilot in 2020',\n",
              "   'type': 'EMPLOYED',\n",
              "   'end': 'Aidan Murray'},\n",
              "  {'start': 'Ryanair Dac',\n",
              "   'description': 'Chief people officer',\n",
              "   'type': 'EMPLOYS',\n",
              "   'end': 'Darrell Hughes'},\n",
              "  {'start': 'Aidan Murray',\n",
              "   'description': None,\n",
              "   'type': 'HARASSED',\n",
              "   'end': 'Nine Junior Female Pilots'},\n",
              "  {'start': 'Aidan Murray',\n",
              "   'description': None,\n",
              "   'type': 'HELD',\n",
              "   'end': 'Chief Pilot'},\n",
              "  {'start': 'Aidan Murray',\n",
              "   'description': 'Attempted to contact Mr. Murray for comment',\n",
              "   'type': 'CONTACTED_BY',\n",
              "   'end': 'The Bbc'},\n",
              "  {'start': 'Aidan Murray',\n",
              "   'description': 'Reported that Mr. Murray has seven days to appeal against dismissal',\n",
              "   'type': 'REPORTED_BY',\n",
              "   'end': 'The Financial Times'},\n",
              "  {'start': 'Aidan Murray',\n",
              "   'description': 'Reported harassment of nine junior colleagues',\n",
              "   'type': 'REPORTED_BY',\n",
              "   'end': 'The Independent'},\n",
              "  {'start': 'Aidan Murray',\n",
              "   'description': 'Reported termination to staff',\n",
              "   'type': 'REPORTED_BY',\n",
              "   'end': 'Darrell Hughes'},\n",
              "  {'start': 'Irish Airline Pilots’ Association',\n",
              "   'description': 'Communicating with members in the airline concerning reports about the chief pilot',\n",
              "   'type': 'COMMUNICATES',\n",
              "   'end': 'Ryanair Dac'}]}"
            ]
          },
          "metadata": {},
          "execution_count": 10
        }
      ]
    },
    {
      "cell_type": "markdown",
      "source": [
        "Now, we need to prepare an LLM prompt that generates a natural language summarization based on the information provided by the elements of our community. We can take some inspiration from the [prompt the researchers used](https://github.com/microsoft/graphrag/blob/main/graphrag/prompt_tune/template/community_report_summarization.py).\n",
        "\n",
        "The authors not only summarized communities but also generated findings for each of them. A finding can be defined as concise information regarding a specific event or piece of information. One such example:\n",
        "```\n",
        "\"summary\": \"Abila City Park as the central location\",\n",
        "\"explanation\": \"Abila City Park is the central entity in this community, serving as the location for the POK rally. This park is the common link between all other\n",
        "entities, suggesting its significance in the community. The park's association with the rally could potentially lead to issues such as public disorder or conflict, depending on the\n",
        "nature of the rally and the reactions it provokes. [records: Entities (5), Relationships (37, 38, 39, 40)]\"\n",
        "```\n",
        "My intuition suggests that extracting findings with just a single pass might not be as comprehensive as we need, much like extracting entities and relationships.\n",
        "\n",
        "Furthermore, I have not found any references or examples of their use in their code in either local or global search retrievers. As a result, we’ll refrain from extracting findings in this instance. Or, as academics often put it: This exercise is left to the reader. Additionally, we have also skipped the claims or covariate information extraction, which looks similar to findings at first glance.\n",
        "\n",
        "The prompt we’ll use to produce the community summaries is fairly straightforward:"
      ],
      "metadata": {
        "id": "T_ybgPpwieQk"
      }
    },
    {
      "cell_type": "code",
      "source": [
        "from langchain_core.prompts import ChatPromptTemplate\n",
        "from langchain_core.output_parsers import StrOutputParser\n",
        "\n",
        "# 커뮤니티 정보를 요약하는 템플릿을 정의\n",
        "community_template = \"\"\"Based on the provided nodes and relationships that belong to the same graph community,\n",
        "generate a natural language summary of the provided information:\n",
        "{community_info}\n",
        "\n",
        "Summary:\"\"\"  # noqa: E501\n",
        "\n",
        "# ChatPromptTemplate을 사용하여 시스템 및 사용자 프롬프트를 설정\n",
        "community_prompt = ChatPromptTemplate.from_messages(\n",
        "    [\n",
        "        (\n",
        "            \"system\",\n",
        "            \"Given an input triples, generate the information summary. No pre-amble.\",  # 시스템 메시지로 정보 요약 생성 지시\n",
        "        ),\n",
        "        (\"human\", community_template),  # 사용자 프롬프트로 커뮤니티 요약 템플릿 사용\n",
        "    ]\n",
        ")\n",
        "\n",
        "# community_prompt와 LLM(언어 모델)을 연결하고 결과를 문자열로 파싱하는 체인 생성\n",
        "community_chain = community_prompt | llm | StrOutputParser()"
      ],
      "metadata": {
        "id": "Tnc8aqN_e5M7"
      },
      "execution_count": null,
      "outputs": []
    },
    {
      "cell_type": "markdown",
      "source": [
        "The only thing left is to turn community representations into strings to reduce the number of tokens by avoiding JSON token overhead and wrap the chain as a function:"
      ],
      "metadata": {
        "id": "S6PdeC7WisWp"
      }
    },
    {
      "cell_type": "code",
      "source": [
        "def prepare_string(data):\n",
        "    nodes_str = \"Nodes are:\\n\"  # 노드 정보를 저장할 문자열 초기화\n",
        "    for node in data['nodes']:\n",
        "        node_id = node['id']  # 노드의 ID\n",
        "        node_type = node['type']  # 노드의 타입\n",
        "        if 'description' in node and node['description']:  # 노드에 설명이 있을 경우\n",
        "            node_description = f\", description: {node['description']}\"  # 설명을 포함\n",
        "        else:\n",
        "            node_description = \"\"  # 설명이 없을 경우 빈 문자열\n",
        "        # 노드 정보를 문자열로 추가\n",
        "        nodes_str += f\"id: {node_id}, type: {node_type}{node_description}\\n\"\n",
        "\n",
        "    rels_str = \"Relationships are:\\n\"  # 관계 정보를 저장할 문자열 초기화\n",
        "    for rel in data['rels']:\n",
        "        start = rel['start']  # 관계의 시작 노드 ID\n",
        "        end = rel['end']  # 관계의 종료 노드 ID\n",
        "        rel_type = rel['type']  # 관계의 타입\n",
        "        if 'description' in rel and rel['description']:  # 관계에 설명이 있을 경우\n",
        "            description = f\", description: {rel['description']}\"  # 설명을 포함\n",
        "        else:\n",
        "            description = \"\"  # 설명이 없을 경우 빈 문자열\n",
        "        # 관계 정보를 문자열로 추가\n",
        "        rels_str += f\"({start})-[:{rel_type}]->({end}){description}\\n\"\n",
        "\n",
        "    return nodes_str + \"\\n\" + rels_str  # 노드와 관계 정보를 결합하여 반환\n",
        "\n",
        "def process_community(community):\n",
        "    stringify_info = prepare_string(community)  # 커뮤니티 정보를 문자열로 변환\n",
        "    summary = community_chain.invoke({'community_info': stringify_info})  # LLM을 통해 요약 생성\n",
        "    return {\"community\": community['communityId'], \"summary\": summary}  # 커뮤니티 ID와 요약을 반환"
      ],
      "metadata": {
        "id": "KdcKulkxVsXc"
      },
      "execution_count": null,
      "outputs": []
    },
    {
      "cell_type": "code",
      "source": [
        "# community_info 리스트에서 네 번째 항목을 가져와 prepare_string 함수로 전달하고,\n",
        "# 해당 커뮤니티의 노드 및 관계 정보를 문자열로 변환한 후 출력\n",
        "print(prepare_string(community_info[3]))"
      ],
      "metadata": {
        "id": "F4RC8ydEWB0N"
      },
      "execution_count": null,
      "outputs": []
    },
    {
      "cell_type": "markdown",
      "source": [
        "Now we can generate community summaries for the selected levels. Again, we parallelize calls for faster execution:"
      ],
      "metadata": {
        "id": "uNnO_edyiwa0"
      }
    },
    {
      "cell_type": "code",
      "source": [
        "summaries = []  # 결과 요약을 저장할 리스트 초기화\n",
        "\n",
        "with ThreadPoolExecutor() as executor:  # 스레드 풀 실행\n",
        "    # 각 커뮤니티를 비동기적으로 처리하기 위해 작업을 제출하고, Future 객체와 커뮤니티를 매핑\n",
        "    futures = {executor.submit(process_community, community): community for community in community_info}\n",
        "\n",
        "    # 제출된 작업들이 완료될 때까지 기다리면서 진행 상황을 tqdm으로 시각화\n",
        "    for future in tqdm(as_completed(futures), total=len(futures), desc=\"Processing communities\"):\n",
        "        summaries.append(future.result())  # 완료된 작업의 결과를 summaries 리스트에 추가"
      ],
      "metadata": {
        "colab": {
          "base_uri": "https://localhost:8080/"
        },
        "id": "5IERhJ3jgWtk",
        "outputId": "ec085ca8-8e1a-4445-8e57-5018105941e2"
      },
      "execution_count": null,
      "outputs": [
        {
          "output_type": "stream",
          "name": "stderr",
          "text": [
            "Processing communities: 100%|██████████| 4651/4651 [30:35<00:00,  2.53it/s]\n"
          ]
        }
      ]
    },
    {
      "cell_type": "markdown",
      "source": [
        "One aspect I didn’t mention is that the authors also address the potential issue of exceeding context size when inputting community information. As graphs expand, the communities can grow significantly as well. In our case, the largest community comprised 545 members. Given that GPT-4o has a context size exceeding 100,000 tokens, we decided to skip this step.\n",
        "\n",
        "As our final step, we will store the community summaries back to the database:"
      ],
      "metadata": {
        "id": "sk2DEFEFi2ry"
      }
    },
    {
      "cell_type": "code",
      "source": [
        "# 생성된 요약(summaries)을 그래프 데이터베이스에 저장\n",
        "graph.query(\"\"\"\n",
        "UNWIND $data AS row  # summaries 리스트의 각 항목을 처리\n",
        "MERGE (c:__Community__ {id:row.community})  # 커뮤니티 ID에 따라 노드를 매칭하거나 생성\n",
        "SET c.summary = row.summary  # 커뮤니티 노드에 요약(summary) 속성을 설정\n",
        "\"\"\", params={\"data\": summaries})  # summaries 데이터를 쿼리에 전달"
      ],
      "metadata": {
        "colab": {
          "base_uri": "https://localhost:8080/"
        },
        "id": "mKymAMJehSkw",
        "outputId": "857a4cee-1222-499c-9842-6e01a0e592e0"
      },
      "execution_count": null,
      "outputs": [
        {
          "output_type": "execute_result",
          "data": {
            "text/plain": [
              "[]"
            ]
          },
          "metadata": {},
          "execution_count": 21
        }
      ]
    },
    {
      "cell_type": "markdown",
      "source": [
        "The final graph structure:\n",
        "\n",
        "![title](https://miro.medium.com/v2/resize:fit:1400/format:webp/1*rkgiVH20AuG1X-rMzTipXQ.png)\n",
        "\n",
        "The graph now contains the original documents, extracted entities and relationships, as well as hierarchical community structure and summaries.\n",
        "\n",
        "Summary\n",
        "The authors of the “From Local to Global” paper have done a great job in demonstrating a new approach to GraphRAG. They show how we can combine and summarize information from various documents into a hierarchical knowledge graph structure.\n",
        "\n",
        "One thing that isn’t explicitly mentioned is that we can also integrate structured data sources in a graph; the input doesn’t have to be limited to unstructured text only.\n",
        "\n",
        "What I particularly appreciate about their extraction approach is that they capture descriptions for both nodes and relationships. Descriptions allow the LLM to retain more information than reducing everything to just node IDs and relationship types.\n",
        "\n",
        "Additionally, they demonstrate that a single extraction pass over the text might not capture all relevant information and introduce logic to perform multiple passes if necessary. The authors also present an interesting idea for performing summarizations over graph communities, allowing us to embed and index condensed topical information across multiple data sources.\n",
        "\n",
        "In the next blog post, we will go over the local and global search retriever implementations and talk about other approaches we could implement based on the given graph structure."
      ],
      "metadata": {
        "id": "xLX6Wrqai-sD"
      }
    },
    {
      "cell_type": "code",
      "source": [],
      "metadata": {
        "id": "Y30zWS6FXya6"
      },
      "execution_count": null,
      "outputs": []
    },
    {
      "cell_type": "code",
      "source": [],
      "metadata": {
        "id": "PcPPm1tJi9c6"
      },
      "execution_count": null,
      "outputs": []
    }
  ]
}